{
 "cells": [
  {
   "cell_type": "code",
   "execution_count": 1,
   "metadata": {
    "tags": []
   },
   "outputs": [],
   "source": [
    "import json\n",
    "import numpy as np\n",
    "import os"
   ]
  },
  {
   "cell_type": "code",
   "execution_count": 2,
   "metadata": {
    "tags": []
   },
   "outputs": [],
   "source": [
    "from pinn import *\n",
    "from nn import NN"
   ]
  },
  {
   "cell_type": "code",
   "execution_count": 3,
   "metadata": {
    "tags": []
   },
   "outputs": [],
   "source": [
    "def serialize_savelist(keys: list, values : list, filename):\n",
    "    dict = {k: v for k, v in zip(keys, values)}\n",
    "    filename = f\"{filename}.json\"\n",
    "    with open(filename, 'w') as file:\n",
    "        json.dump(dict, file)"
   ]
  },
  {
   "cell_type": "code",
   "execution_count": 4,
   "metadata": {
    "id": "yYakGVopXcjP",
    "tags": []
   },
   "outputs": [],
   "source": [
    "# Parameters model\n",
    "rho = 0.5\n",
    "mu = 79300 # MPa\n",
    "lam = 100000 # MPa\n",
    "\n",
    "Lx = 0.2\n",
    "Ly = 0.2\n",
    "T = 0.2\n",
    "\n",
    "x_domain = np.array([0.0, Lx])/Lx\n",
    "y_domain = np.array([0.0, Ly])/Lx\n",
    "t_domain = np.array([0.0, T])/T\n",
    "\n",
    "# Parameters NN\n",
    "epochs = 12000\n",
    "n_train = 30\n",
    "layers = 2\n",
    "dim_hidden = 40\n",
    "lr = 0.02\n",
    "om_INITIAL = 2\n",
    "om_BOUNDARY = 0.4"
   ]
  },
  {
   "cell_type": "markdown",
   "metadata": {},
   "source": [
    "# Eventually save changed $NN_2$ parameters to pass to other script"
   ]
  },
  {
   "cell_type": "code",
   "execution_count": 5,
   "metadata": {
    "tags": []
   },
   "outputs": [],
   "source": [
    "par = [Lx, T, n_train, layers, dim_hidden]\n",
    "keys = ['x', 't', 'n', 'n_layers', 'n_neurons']\n",
    "\n",
    "serialize_savelist(keys, par, 'par')"
   ]
  },
  {
   "cell_type": "code",
   "execution_count": 6,
   "metadata": {
    "tags": []
   },
   "outputs": [],
   "source": [
    "pinn = PINN(layers, dim_hidden, act=nn.Tanh()).to(device)\n",
    "\n",
    "loss_fn = Loss(\n",
    "    x_domain,\n",
    "    y_domain,\n",
    "    t_domain,\n",
    "    n_train,\n",
    "    return_adim(x_domain, t_domain, rho, mu, lam),\n",
    "    initial_conditions,\n",
    "    om_INITIAL,\n",
    "    om_BOUNDARY\n",
    ")"
   ]
  },
  {
   "cell_type": "markdown",
   "metadata": {},
   "source": [
    "# Import weights from pretrained model"
   ]
  },
  {
   "cell_type": "code",
   "execution_count": 7,
   "metadata": {
    "tags": []
   },
   "outputs": [
    {
     "data": {
      "text/plain": [
       "<All keys matched successfully>"
      ]
     },
     "execution_count": 7,
     "metadata": {},
     "output_type": "execute_result"
    }
   ],
   "source": [
    "filename_model = get_last_modified_file('in_model')\n",
    "pretrained_model_dict = torch.load(filename_model)\n",
    "\n",
    "pretrained_model = NN(layers, dim_hidden, 2, 1)\n",
    "pretrained_model.load_state_dict(pretrained_model_dict)"
   ]
  },
  {
   "cell_type": "code",
   "execution_count": 8,
   "metadata": {
    "tags": []
   },
   "outputs": [],
   "source": [
    "for i in np.arange(len(pinn.middle_layers)):\n",
    "    pinn_layer = pinn.middle_layers[i]\n",
    "    pretrained_layer = pretrained_model.middle_layers[i]\n",
    "    pinn.middle_layers[i].weight.data.copy_(pretrained_model.middle_layers[i].weight)\n",
    "    pinn.middle_layers[i].bias.data.copy_(pretrained_model.middle_layers[i].bias)"
   ]
  },
  {
   "cell_type": "markdown",
   "metadata": {},
   "source": [
    "# Train new network with pretrained weights and biases in middle layers"
   ]
  },
  {
   "cell_type": "code",
   "execution_count": 9,
   "metadata": {
    "colab": {
     "base_uri": "https://localhost:8080/"
    },
    "id": "5qEPIGzEXj0b",
    "outputId": "4555c285-89a5-4e4f-ff57-1560c4f910b1",
    "tags": []
   },
   "outputs": [
    {
     "name": "stdout",
     "output_type": "stream",
     "text": [
      "Folder '2024-04-26' already exists.\n"
     ]
    },
    {
     "name": "stderr",
     "output_type": "stream",
     "text": [
      "Training:   0%|          | 0/12000 [00:00<?, ?it/s]"
     ]
    },
    {
     "name": "stdout",
     "output_type": "stream",
     "text": [
      "tensor(3.7356e+11, device='cuda:0', grad_fn=<AddBackward0>)\n"
     ]
    },
    {
     "ename": "AttributeError",
     "evalue": "'NoneType' object has no attribute 'clone'",
     "output_type": "error",
     "traceback": [
      "\u001b[0;31m---------------------------------------------------------------------------\u001b[0m",
      "\u001b[0;31mAttributeError\u001b[0m                            Traceback (most recent call last)",
      "Cell \u001b[0;32mIn[9], line 1\u001b[0m\n\u001b[0;32m----> 1\u001b[0m pinn_trained, loss_values \u001b[38;5;241m=\u001b[39m \u001b[43mtrain_model\u001b[49m\u001b[43m(\u001b[49m\n\u001b[1;32m      2\u001b[0m \u001b[43m    \u001b[49m\u001b[43mpinn\u001b[49m\u001b[43m,\u001b[49m\u001b[43m \u001b[49m\u001b[43mloss_fn\u001b[49m\u001b[38;5;241;43m=\u001b[39;49m\u001b[43mloss_fn\u001b[49m\u001b[43m,\u001b[49m\u001b[43m \u001b[49m\u001b[43mlearning_rate\u001b[49m\u001b[38;5;241;43m=\u001b[39;49m\u001b[43mlr\u001b[49m\u001b[43m,\u001b[49m\u001b[43m \u001b[49m\u001b[43mmax_epochs\u001b[49m\u001b[38;5;241;43m=\u001b[39;49m\u001b[43mepochs\u001b[49m\u001b[43m)\u001b[49m\n",
      "File \u001b[0;32m~/EvolBERNPINN2D/pinn.py:317\u001b[0m, in \u001b[0;36mtrain_model\u001b[0;34m(nn_approximator, loss_fn, learning_rate, max_epochs)\u001b[0m\n\u001b[1;32m    314\u001b[0m \u001b[38;5;28mprint\u001b[39m(residual_loss)\n\u001b[1;32m    316\u001b[0m residual_loss\u001b[38;5;241m.\u001b[39mbackward(retain_graph\u001b[38;5;241m=\u001b[39m\u001b[38;5;28;01mTrue\u001b[39;00m)\n\u001b[0;32m--> 317\u001b[0m res_grads \u001b[38;5;241m=\u001b[39m [param\u001b[38;5;241m.\u001b[39mgrad\u001b[38;5;241m.\u001b[39mclone() \u001b[38;5;28;01mfor\u001b[39;00m param \u001b[38;5;129;01min\u001b[39;00m nn_approximator\u001b[38;5;241m.\u001b[39mparameters()]\n\u001b[1;32m    318\u001b[0m res_grads \u001b[38;5;241m=\u001b[39m [tensor\u001b[38;5;241m.\u001b[39mdetach()\u001b[38;5;241m.\u001b[39mcpu()\u001b[38;5;241m.\u001b[39mnumpy()\u001b[38;5;241m.\u001b[39mreshape(\u001b[38;5;241m-\u001b[39m\u001b[38;5;241m1\u001b[39m) \u001b[38;5;28;01mfor\u001b[39;00m tensor \u001b[38;5;129;01min\u001b[39;00m res_grads]\n\u001b[1;32m    319\u001b[0m res_grads \u001b[38;5;241m=\u001b[39m np\u001b[38;5;241m.\u001b[39mconcatenate(res_grads)\n",
      "File \u001b[0;32m~/EvolBERNPINN2D/pinn.py:317\u001b[0m, in \u001b[0;36m<listcomp>\u001b[0;34m(.0)\u001b[0m\n\u001b[1;32m    314\u001b[0m \u001b[38;5;28mprint\u001b[39m(residual_loss)\n\u001b[1;32m    316\u001b[0m residual_loss\u001b[38;5;241m.\u001b[39mbackward(retain_graph\u001b[38;5;241m=\u001b[39m\u001b[38;5;28;01mTrue\u001b[39;00m)\n\u001b[0;32m--> 317\u001b[0m res_grads \u001b[38;5;241m=\u001b[39m [\u001b[43mparam\u001b[49m\u001b[38;5;241;43m.\u001b[39;49m\u001b[43mgrad\u001b[49m\u001b[38;5;241;43m.\u001b[39;49m\u001b[43mclone\u001b[49m() \u001b[38;5;28;01mfor\u001b[39;00m param \u001b[38;5;129;01min\u001b[39;00m nn_approximator\u001b[38;5;241m.\u001b[39mparameters()]\n\u001b[1;32m    318\u001b[0m res_grads \u001b[38;5;241m=\u001b[39m [tensor\u001b[38;5;241m.\u001b[39mdetach()\u001b[38;5;241m.\u001b[39mcpu()\u001b[38;5;241m.\u001b[39mnumpy()\u001b[38;5;241m.\u001b[39mreshape(\u001b[38;5;241m-\u001b[39m\u001b[38;5;241m1\u001b[39m) \u001b[38;5;28;01mfor\u001b[39;00m tensor \u001b[38;5;129;01min\u001b[39;00m res_grads]\n\u001b[1;32m    319\u001b[0m res_grads \u001b[38;5;241m=\u001b[39m np\u001b[38;5;241m.\u001b[39mconcatenate(res_grads)\n",
      "\u001b[0;31mAttributeError\u001b[0m: 'NoneType' object has no attribute 'clone'"
     ]
    }
   ],
   "source": [
    "pinn_trained, loss_values = train_model(\n",
    "    pinn, loss_fn=loss_fn, learning_rate=lr, max_epochs=epochs)"
   ]
  },
  {
   "cell_type": "code",
   "execution_count": null,
   "metadata": {
    "id": "Tp5m_1mJ0By3",
    "tags": []
   },
   "outputs": [],
   "source": [
    "current_time = get_current_time(fmt=\"%H:%M\")\n",
    "\n",
    "folder = 'model'\n",
    "model_name = f'{lr}_{epochs}_{dim_hidden}_{current_time}.pth'\n",
    "model_path = os.path.join(folder, model_name)\n",
    "os.makedirs(folder, exist_ok=True)\n",
    "\n",
    "torch.save(pinn_trained.state_dict(), model_path)"
   ]
  },
  {
   "cell_type": "code",
   "execution_count": null,
   "metadata": {
    "colab": {
     "base_uri": "https://localhost:8080/",
     "height": 17
    },
    "id": "yvHawzyAYkuW",
    "outputId": "4c3a7757-9298-4fe9-c1cb-1d159dc184ea",
    "tags": []
   },
   "outputs": [],
   "source": [
    "from plots import plot_initial_conditions, plot_solution\n",
    "\n",
    "x, y, _ = get_initial_points(x_domain, y_domain, t_domain, n_train)\n",
    "t_value = 0.0\n",
    "t = torch.full_like(x, t_value)\n",
    "x = x.to(device)\n",
    "y = y.to(device)\n",
    "t = t.to(device)\n",
    "z = f(pinn, x ,y, t)\n",
    "ux_0, uy_0 = initial_conditions(x, y, Lx, i = 1)\n",
    "z_0 = torch.cat((ux_0, uy_0), dim=1)\n",
    "\n",
    "plot_initial_conditions(z_0, y, x, 'Initial conditions - analytical', n_train, from_pinn = 0)\n",
    "plot_initial_conditions(z, y, x, 'Initial conditions - NN', n_train)"
   ]
  },
  {
   "cell_type": "code",
   "execution_count": null,
   "metadata": {},
   "outputs": [],
   "source": [
    "from IPython.display import HTML\n",
    "\n",
    "x, y, t = get_interior_points(x_domain, y_domain, t_domain, n_train)\n",
    "animation = plot_solution(pinn, x, y, t, n_train)\n",
    "HTML(animation.to_jshtml())"
   ]
  },
  {
   "cell_type": "markdown",
   "metadata": {
    "id": "9hqnVSEf3dgC"
   },
   "source": [
    "# To be added\n",
    "- ~separate loss in more bars to see how the various loss term come to zero~\n",
    "- see if some quadrature rule has been implemented\n",
    "- scheme of weights initialization in order to automatically satisfy initial conditions\n",
    "- plots (in progress)\n",
    "- NN operators (to generalize results)\n",
    "- try to implement function that allows that satisfy initial conditions?"
   ]
  },
  {
   "cell_type": "markdown",
   "metadata": {
    "id": "OLyts7jbh2i4"
   },
   "source": [
    "# To be fully understood\n",
    "- reshape when plotting (also different number of points allowed?)\n",
    "- ~not consistent initial conditions~ (between $u_x$ and $u_y$)?"
   ]
  }
 ],
 "metadata": {
  "accelerator": "GPU",
  "colab": {
   "gpuType": "T4",
   "provenance": []
  },
  "kernelspec": {
   "display_name": "EvolBern:Python",
   "language": "python",
   "name": "conda-env-EvolBern-py"
  },
  "language_info": {
   "codemirror_mode": {
    "name": "ipython",
    "version": 3
   },
   "file_extension": ".py",
   "mimetype": "text/x-python",
   "name": "python",
   "nbconvert_exporter": "python",
   "pygments_lexer": "ipython3",
   "version": "3.9.19"
  },
  "toc-autonumbering": false,
  "toc-showcode": true,
  "toc-showmarkdowntxt": true
 },
 "nbformat": 4,
 "nbformat_minor": 4
}
