{
 "cells": [
  {
   "cell_type": "code",
   "execution_count": 1,
   "metadata": {
    "tags": []
   },
   "outputs": [],
   "source": [
    "import json\n",
    "import numpy as np\n",
    "import os"
   ]
  },
  {
   "cell_type": "code",
   "execution_count": 2,
   "metadata": {
    "tags": []
   },
   "outputs": [],
   "source": [
    "from pinn import *\n",
    "from nn import NN\n",
    "\n",
    "torch.set_default_dtype(torch.float32)\n",
    "device = torch.device(\"cuda\" if torch.cuda.is_available() else \"cpu\")"
   ]
  },
  {
   "cell_type": "code",
   "execution_count": 3,
   "metadata": {
    "tags": []
   },
   "outputs": [],
   "source": [
    "def serialize_savelist(keys: list, values : list, filename):\n",
    "    dict = {k: v for k, v in zip(keys, values)}\n",
    "    filename = f\"{filename}.json\"\n",
    "    with open(filename, 'w') as file:\n",
    "        json.dump(dict, file)"
   ]
  },
  {
   "cell_type": "code",
   "execution_count": 4,
   "metadata": {
    "id": "yYakGVopXcjP",
    "tags": []
   },
   "outputs": [],
   "source": [
    "# Parameters model\n",
    "rho = 0.5\n",
    "mu = 79300 # MPa\n",
    "lam = 100000 # MPa\n",
    "\n",
    "Lx = 0.2\n",
    "Ly = 0.2\n",
    "T = 0.2\n",
    "\n",
    "x_domain = np.array([0.0, Lx])/Lx\n",
    "y_domain = np.array([0.0, Ly])/Lx\n",
    "t_domain = np.array([0.0, T])/T\n",
    "\n",
    "# Parameters NN\n",
    "epochs = 12000\n",
    "n_train = 30\n",
    "layers = 2\n",
    "dim_hidden = 40\n",
    "lr = 0.02\n",
    "om_INITIAL = 2\n",
    "om_BOUNDARY = 0.4"
   ]
  },
  {
   "cell_type": "markdown",
   "metadata": {},
   "source": [
    "# Eventually save changed $NN_2$ parameters to pass to other script"
   ]
  },
  {
   "cell_type": "code",
   "execution_count": 5,
   "metadata": {
    "tags": []
   },
   "outputs": [],
   "source": [
    "par = [Lx, T, n_train, layers, dim_hidden]\n",
    "keys = ['x', 't', 'n', 'n_layers', 'n_neurons']\n",
    "\n",
    "serialize_savelist(keys, par, 'par')"
   ]
  },
  {
   "cell_type": "code",
   "execution_count": 6,
   "metadata": {
    "tags": []
   },
   "outputs": [],
   "source": [
    "pinn = PINN(layers, dim_hidden, act=nn.Tanh()).to(device)\n",
    "\n",
    "loss_fn = Loss(\n",
    "    x_domain,\n",
    "    y_domain,\n",
    "    t_domain,\n",
    "    n_train,\n",
    "    return_adim(x_domain, t_domain, rho, mu, lam),\n",
    "    initial_conditions,\n",
    "    om_INITIAL,\n",
    "    om_BOUNDARY\n",
    ")"
   ]
  },
  {
   "cell_type": "markdown",
   "metadata": {},
   "source": [
    "# Import weights from pretrained model"
   ]
  },
  {
   "cell_type": "code",
   "execution_count": 7,
   "metadata": {
    "tags": []
   },
   "outputs": [
    {
     "data": {
      "text/plain": [
       "<All keys matched successfully>"
      ]
     },
     "execution_count": 7,
     "metadata": {},
     "output_type": "execute_result"
    }
   ],
   "source": [
    "filename_model = get_last_modified_file('in_model')\n",
    "pretrained_model_dict = torch.load(filename_model, map_location=torch.device(device))\n",
    "\n",
    "pretrained_model = NN(layers, dim_hidden, 2, 1)\n",
    "pretrained_model.load_state_dict(pretrained_model_dict)"
   ]
  },
  {
   "cell_type": "code",
   "execution_count": 8,
   "metadata": {
    "tags": []
   },
   "outputs": [],
   "source": [
    "for i in np.arange(len(pinn.middle_layers)):\n",
    "    pinn_layer = pinn.middle_layers[i]\n",
    "    pretrained_layer = pretrained_model.middle_layers[i]\n",
    "    pinn.middle_layers[i].weight.data.copy_(pretrained_model.middle_layers[i].weight)\n",
    "    pinn.middle_layers[i].bias.data.copy_(pretrained_model.middle_layers[i].bias)"
   ]
  },
  {
   "cell_type": "markdown",
   "metadata": {},
   "source": [
    "# Train new network with pretrained weights and biases in middle layers"
   ]
  },
  {
   "cell_type": "code",
   "execution_count": 9,
   "metadata": {
    "colab": {
     "base_uri": "https://localhost:8080/"
    },
    "id": "5qEPIGzEXj0b",
    "outputId": "4555c285-89a5-4e4f-ff57-1560c4f910b1",
    "tags": []
   },
   "outputs": [
    {
     "name": "stdout",
     "output_type": "stream",
     "text": [
      "Folder '2024-04-27' already exists.\n"
     ]
    },
    {
     "name": "stderr",
     "output_type": "stream",
     "text": [
      "Training:   0%|          | 0/12000 [00:00<?, ?it/s]"
     ]
    },
    {
     "name": "stdout",
     "output_type": "stream",
     "text": [
      "tensor([[ 5.4608e+10, -6.4805e+10, -3.6454e+10],\n",
      "        [-1.3268e+11,  1.2824e+11,  8.1850e+10],\n",
      "        [-1.5572e+11,  1.0803e+11,  7.0015e+10],\n",
      "        [-3.8595e+10,  2.3176e+10,  1.4707e+10],\n",
      "        [ 8.2128e+09, -1.1927e+10, -7.7690e+09],\n",
      "        [ 2.3872e+11, -1.7897e+11, -1.2382e+11],\n",
      "        [ 2.0958e+11, -1.7823e+11, -1.3813e+11],\n",
      "        [ 3.2692e+10, -2.2688e+10, -1.5494e+10],\n",
      "        [-1.4872e+11,  1.4883e+11,  9.7276e+10],\n",
      "        [-1.0752e+10,  1.5177e+09,  1.0095e+09],\n",
      "        [-1.1442e+10, -3.3084e+09, -2.3866e+09],\n",
      "        [ 1.1265e+11, -9.3388e+10, -6.5246e+10],\n",
      "        [ 4.9542e+10, -3.2531e+10, -1.0660e+10],\n",
      "        [-3.8147e+10,  3.6561e+10,  2.7250e+10],\n",
      "        [ 2.7454e+11, -2.2674e+11, -1.4976e+11],\n",
      "        [-2.9544e+10,  3.6343e+10,  1.9756e+10],\n",
      "        [ 2.3360e+11, -1.8331e+11, -1.1825e+11],\n",
      "        [ 7.7561e+10, -5.8030e+10, -3.9280e+10],\n",
      "        [-3.4599e+09,  4.0779e+09,  7.0377e+09],\n",
      "        [-7.6545e+10,  5.4610e+10,  2.9522e+10],\n",
      "        [-7.4135e+09, -1.4876e+10, -6.1576e+08],\n",
      "        [ 4.4930e+10, -4.4109e+10, -2.2461e+10],\n",
      "        [-6.4881e+10,  4.8745e+10,  3.1797e+10],\n",
      "        [-5.3446e+10,  4.8456e+10,  3.0972e+10],\n",
      "        [-4.9212e+10,  3.6794e+10,  1.8422e+10],\n",
      "        [ 5.5848e+10, -4.6361e+10, -3.1992e+10],\n",
      "        [ 2.4675e+11, -1.2671e+11, -8.0945e+10],\n",
      "        [ 8.9275e+10, -6.1875e+10, -3.5741e+10],\n",
      "        [ 3.7149e+10, -2.6587e+10, -1.7188e+10],\n",
      "        [ 1.3907e+10, -1.1954e+10, -9.7144e+09],\n",
      "        [-3.6271e+10,  4.9658e+09,  8.3496e+09],\n",
      "        [-1.0198e+11,  1.0949e+11,  7.3739e+10],\n",
      "        [-9.6539e+10,  4.9035e+10,  3.7467e+10],\n",
      "        [ 2.0754e+10, -3.9967e+10, -8.5875e+09],\n",
      "        [ 3.3077e+10, -2.4644e+10, -1.3060e+10],\n",
      "        [-1.2302e+11,  1.3644e+11,  9.1457e+10],\n",
      "        [ 7.7570e+10, -7.9454e+10, -5.6873e+10],\n",
      "        [ 8.7832e+10, -5.4233e+10, -3.4421e+10],\n",
      "        [-9.2566e+10,  5.1818e+10,  3.4503e+10],\n",
      "        [-1.3178e+11,  1.1449e+11,  7.0935e+10]])\n",
      "tensor([-1.1669e+11,  2.0356e+11,  1.5955e+11,  5.8876e+10, -3.5320e+10,\n",
      "        -2.4694e+11, -3.1087e+11, -6.6401e+10,  2.6042e+11,  1.6191e+10,\n",
      "         4.7766e+08, -1.4780e+11, -3.6089e+10,  8.7436e+10, -3.2295e+11,\n",
      "         4.5831e+10, -1.9465e+11, -1.6223e+11,  3.0285e+10,  2.7194e+10,\n",
      "        -1.3932e+10, -5.3688e+10,  8.9553e+10,  8.0079e+10,  9.5839e+10,\n",
      "        -9.5112e+10, -7.8901e+10, -1.8321e+11, -7.5053e+10, -3.4494e+10,\n",
      "         2.3301e+10,  1.9577e+11,  1.5283e+11, -8.3581e+10, -5.6018e+10,\n",
      "         2.3653e+11, -1.5032e+11, -1.5780e+11,  1.5125e+11,  1.1823e+11])\n",
      "tensor([[-1.6721e+09, -9.9649e+09, -2.6843e+08,  ..., -9.0903e+09,\n",
      "          1.6787e+09,  1.9045e+09],\n",
      "        [ 1.5317e+09, -8.6975e+09, -6.0711e+09,  ..., -4.1019e+09,\n",
      "         -1.0915e+10, -1.3708e+09],\n",
      "        [-9.0653e+08, -3.0729e+09, -3.6290e+09,  ..., -2.4107e+09,\n",
      "         -5.1950e+09, -1.8590e+07],\n",
      "        ...,\n",
      "        [-4.1837e+09, -4.8944e+09, -6.4697e+08,  ..., -6.8097e+09,\n",
      "          5.8371e+08,  4.6413e+09],\n",
      "        [-1.0020e+09, -5.5859e+09,  1.8973e+09,  ..., -5.4899e+09,\n",
      "          4.2831e+09,  1.6939e+09],\n",
      "        [-3.6138e+09, -2.7861e+09,  2.9724e+09,  ..., -5.5897e+09,\n",
      "          2.1694e+09,  6.6148e+09]])\n",
      "tensor([ 4.9928e+09, -6.1905e+09,  1.9889e+09, -3.1104e+09,  1.5079e+10,\n",
      "         2.1477e+10,  5.8846e+09, -1.0673e+10, -2.9496e+09, -6.3007e+09,\n",
      "        -1.0509e+11,  7.6583e+08,  2.6746e+10,  1.3132e+10,  4.8536e+09,\n",
      "        -2.8032e+10,  6.2181e+08,  4.0853e+09, -2.7069e+10, -1.4192e+09,\n",
      "        -3.1163e+09, -2.2837e+09, -5.2109e+09,  2.6995e+09,  1.9884e+09,\n",
      "         2.3897e+09, -1.4498e+08,  3.7610e+08, -1.3928e+10,  2.1309e+08,\n",
      "        -1.0268e+10,  6.4589e+09, -2.0894e+09, -2.1523e+10,  3.9416e+08,\n",
      "        -1.0060e+10,  3.1824e+10,  1.4581e+10,  3.3330e+09,  1.2911e+10])\n",
      "tensor([[-1.0443e+10,  1.2341e+11,  3.0635e+10, -9.5907e+08, -8.5563e+10,\n",
      "          7.7601e+10, -1.9532e+11,  1.4018e+10,  3.4921e+10, -5.3863e+10,\n",
      "          7.3262e+11,  6.5435e+09,  8.0641e+10, -2.7503e+10, -1.3005e+11,\n",
      "          1.5120e+12, -1.2625e+10, -2.1446e+10,  6.2554e+11, -2.0711e+10,\n",
      "          2.3305e+10, -8.4826e+10, -4.2572e+10, -3.9727e+09, -1.6312e+10,\n",
      "          4.9874e+09, -5.7208e+10, -4.9504e+10, -5.4333e+10,  1.0420e+10,\n",
      "          1.1231e+12,  2.4224e+11,  5.6242e+10, -1.8493e+11,  4.6796e+10,\n",
      "          3.4410e+10,  1.7465e+12,  2.5453e+11, -1.4171e+10,  1.1677e+10],\n",
      "        [-4.9042e+09,  3.2429e+10, -2.7981e+10,  3.2612e+10, -1.7434e+10,\n",
      "          7.4078e+09, -5.0448e+10,  1.0790e+10,  1.7051e+09, -2.0038e+10,\n",
      "          4.0287e+10,  2.1517e+09,  2.1014e+10, -1.1439e+10, -3.5028e+10,\n",
      "          7.3866e+10,  2.3914e+09, -2.0216e+10,  9.5991e+10, -3.6770e+09,\n",
      "          1.3358e+10, -3.9392e+10, -4.9381e+09, -4.1278e+09, -8.4276e+09,\n",
      "          1.3371e+10, -2.2091e+10, -2.3538e+10,  1.4238e+09,  1.1949e+09,\n",
      "         -2.1701e+11,  1.5900e+10, -4.1552e+10, -2.5606e+10,  2.7669e+10,\n",
      "          8.2859e+09, -2.3954e+10,  2.4282e+10, -8.1892e+08,  2.0541e+10]])\n"
     ]
    },
    {
     "name": "stderr",
     "output_type": "stream",
     "text": [
      "Loss: 4040360954966235615854592.0000:   0%|          | 1/12000 [00:01<6:12:17,  1.86s/it]"
     ]
    },
    {
     "name": "stdout",
     "output_type": "stream",
     "text": [
      "tensor([[ 4.1315e+10, -5.2014e+10, -2.3192e+10],\n",
      "        [-9.9549e+10,  1.0063e+11,  5.0924e+10],\n",
      "        [-1.1446e+11,  8.5179e+10,  4.1348e+10],\n",
      "        [-2.9720e+10,  1.8134e+10,  1.0464e+10],\n",
      "        [ 9.4855e+09, -8.6197e+09, -5.6231e+09],\n",
      "        [ 1.8112e+11, -1.3790e+11, -7.5739e+10],\n",
      "        [ 1.5658e+11, -1.3261e+11, -7.9141e+10],\n",
      "        [ 2.5597e+10, -1.7764e+10, -1.0639e+10],\n",
      "        [-1.1123e+11,  1.1702e+11,  6.0448e+10],\n",
      "        [-9.9142e+09,  1.7333e+09,  2.7590e+09],\n",
      "        [-8.7287e+09, -1.0174e+09,  6.0196e+08],\n",
      "        [ 8.1972e+10, -6.9671e+10, -3.8070e+10],\n",
      "        [ 3.8486e+10, -2.6855e+10, -9.1604e+09],\n",
      "        [-2.9282e+10,  2.9059e+10,  1.7857e+10],\n",
      "        [ 2.0746e+11, -1.7524e+11, -9.0795e+10],\n",
      "        [-2.1527e+10,  2.8906e+10,  1.1997e+10],\n",
      "        [ 1.7525e+11, -1.4054e+11, -7.0339e+10],\n",
      "        [ 6.9094e+10, -4.9250e+10, -3.1715e+10],\n",
      "        [-3.1563e+09,  3.5466e+09,  5.2912e+09],\n",
      "        [-5.6717e+10,  3.6299e+10,  1.4056e+10],\n",
      "        [-4.9858e+09, -1.3098e+10, -8.8274e+08],\n",
      "        [ 3.5383e+10, -3.6024e+10, -1.6091e+10],\n",
      "        [-4.9864e+10,  3.8138e+10,  2.1186e+10],\n",
      "        [-4.0530e+10,  4.0335e+10,  2.0237e+10],\n",
      "        [-4.0149e+10,  3.1196e+10,  1.6211e+10],\n",
      "        [ 4.6369e+10, -3.5061e+10, -2.0544e+10],\n",
      "        [ 1.8819e+11, -9.7191e+10, -5.0078e+10],\n",
      "        [ 7.7635e+10, -5.2555e+10, -3.0587e+10],\n",
      "        [ 2.8834e+10, -2.1098e+10, -1.2880e+10],\n",
      "        [ 1.0423e+10, -9.9848e+09, -5.9990e+09],\n",
      "        [-3.1491e+10,  4.5774e+09,  7.4767e+09],\n",
      "        [-7.3221e+10,  8.5473e+10,  4.3618e+10],\n",
      "        [-8.2876e+10,  4.0978e+10,  2.8075e+10],\n",
      "        [ 2.7796e+10, -4.2113e+10, -1.6873e+10],\n",
      "        [ 2.5474e+10, -1.9432e+10, -9.6551e+09],\n",
      "        [-8.9292e+10,  1.0332e+11,  5.2926e+10],\n",
      "        [ 5.7738e+10, -5.9942e+10, -3.2120e+10],\n",
      "        [ 7.8484e+10, -4.7991e+10, -2.9773e+10],\n",
      "        [-8.3639e+10,  4.2304e+10,  2.8812e+10],\n",
      "        [-1.0042e+11,  8.7434e+10,  4.3321e+10]])\n",
      "tensor([-9.3234e+10,  1.5974e+11,  1.1702e+11,  5.0447e+10, -3.0537e+10,\n",
      "        -1.9040e+11, -2.2635e+11, -5.6357e+10,  2.0152e+11,  2.0446e+10,\n",
      "         6.5216e+09, -1.0790e+11, -3.9588e+10,  7.1864e+10, -2.4796e+11,\n",
      "         3.6138e+10, -1.4640e+11, -1.5196e+11,  2.7118e+10,  6.1247e+09,\n",
      "        -1.3657e+10, -4.8308e+10,  7.4430e+10,  6.6238e+10,  9.3858e+10,\n",
      "        -7.6598e+10, -6.3239e+10, -1.7302e+11, -6.6126e+10, -2.8090e+10,\n",
      "         2.6466e+10,  1.4225e+11,  1.3563e+11, -1.0886e+11, -4.9905e+10,\n",
      "         1.6875e+11, -1.0930e+11, -1.5297e+11,  1.4493e+11,  9.0151e+10])\n",
      "tensor([[-1.1957e+09, -7.7919e+09, -1.9022e+08,  ..., -6.9347e+09,\n",
      "          9.3955e+08,  1.5596e+09],\n",
      "        [ 1.1312e+09, -7.0275e+09, -4.6967e+09,  ..., -3.4996e+09,\n",
      "         -8.7473e+09, -9.1038e+08],\n",
      "        [-6.9028e+08, -2.2718e+09, -2.6479e+09,  ..., -1.8366e+09,\n",
      "         -3.9185e+09,  1.2277e+08],\n",
      "        ...,\n",
      "        [-3.0872e+09, -3.5864e+09, -4.4026e+08,  ..., -4.9332e+09,\n",
      "          1.7070e+08,  3.7318e+09],\n",
      "        [-6.3952e+08, -4.1605e+09,  1.6213e+09,  ..., -3.9604e+09,\n",
      "          3.2378e+09,  1.3056e+09],\n",
      "        [-2.6195e+09, -1.7756e+09,  2.3922e+09,  ..., -3.8781e+09,\n",
      "          1.3557e+09,  5.2349e+09]])\n",
      "tensor([ 3.7528e+09, -4.7883e+09,  1.6186e+09, -1.8061e+09,  1.2522e+10,\n",
      "         2.3289e+10,  6.0609e+09, -8.3296e+09, -2.1593e+09, -4.3377e+09,\n",
      "        -7.9495e+10,  5.7282e+08,  2.1832e+10,  1.0265e+10,  1.2631e+09,\n",
      "        -1.8809e+10,  3.7267e+08,  3.1611e+09, -1.8905e+10, -1.1364e+09,\n",
      "        -2.9210e+09, -1.4970e+09, -4.3601e+09,  1.9471e+09,  1.6920e+09,\n",
      "         1.4362e+09,  1.3924e+08,  3.4173e+08, -9.6403e+09,  1.7681e+08,\n",
      "        -1.2757e+10,  4.4186e+09, -1.6505e+09, -1.8779e+10,  6.3116e+08,\n",
      "        -8.0937e+09,  2.4389e+10,  1.1193e+10,  2.2931e+09,  9.8885e+09])\n",
      "tensor([[-9.2120e+09,  9.7345e+10,  2.0838e+10, -5.5710e+08, -6.1521e+10,\n",
      "          8.5622e+10, -1.4750e+11,  1.1590e+10,  2.7618e+10, -4.8749e+10,\n",
      "          5.5201e+11,  4.0585e+09,  4.6110e+10, -2.3658e+10, -8.3333e+10,\n",
      "          1.1426e+12, -8.9889e+09, -1.8512e+10,  4.6862e+11, -1.6231e+10,\n",
      "          1.7745e+10, -6.9400e+10, -2.4014e+10, -2.4550e+09, -1.2678e+10,\n",
      "          2.7116e+09, -4.4608e+10, -3.7743e+10, -4.8384e+10,  6.8782e+09,\n",
      "          8.3801e+11,  1.8464e+11,  3.8645e+10, -1.6971e+11,  3.7610e+10,\n",
      "          2.3584e+10,  1.3060e+12,  1.8059e+11, -1.2010e+10,  1.0088e+10],\n",
      "        [-2.2874e+09,  2.6399e+10, -1.5959e+10,  2.3697e+10, -1.3308e+10,\n",
      "          8.4378e+09, -3.9871e+10,  9.1624e+09,  2.5399e+09, -1.8322e+10,\n",
      "          2.9731e+10,  1.8653e+09,  1.3563e+10, -1.0388e+10, -4.3245e+10,\n",
      "          5.5954e+10,  9.0693e+08, -1.7296e+10,  7.4209e+10, -3.1678e+09,\n",
      "          1.6365e+10, -3.5090e+10, -3.9527e+08, -3.5597e+09, -7.5683e+09,\n",
      "          7.7281e+09, -1.8213e+10, -1.9211e+10, -5.5765e+08,  1.4032e+09,\n",
      "         -1.6446e+11,  1.3791e+10, -2.7343e+10, -2.3975e+10,  2.4280e+10,\n",
      "          8.2943e+09, -1.6642e+10,  1.8012e+10,  1.0823e+08,  1.4965e+10]])\n"
     ]
    },
    {
     "name": "stderr",
     "output_type": "stream",
     "text": [
      "Loss: 40401458990768294199296.0000:   0%|          | 2/12000 [00:03<5:26:46,  1.63s/it]  "
     ]
    },
    {
     "name": "stdout",
     "output_type": "stream",
     "text": [
      "tensor([[ 3.4992e+10, -4.4670e+10, -1.7065e+10],\n",
      "        [-8.3555e+10,  8.4952e+10,  3.7154e+10],\n",
      "        [-9.3820e+10,  7.1637e+10,  2.8564e+10],\n",
      "        [-2.5476e+10,  1.5450e+10,  8.4478e+09],\n",
      "        [ 9.8643e+09, -6.9107e+09, -4.6744e+09],\n",
      "        [ 1.5240e+11, -1.1405e+11, -5.3848e+10],\n",
      "        [ 1.3053e+11, -1.0907e+11, -5.5201e+10],\n",
      "        [ 2.2410e+10, -1.5247e+10, -8.5296e+09],\n",
      "        [-9.2832e+10,  9.8684e+10,  4.3922e+10],\n",
      "        [-9.6504e+09,  1.6163e+09,  3.1399e+09],\n",
      "        [-7.7002e+09, -3.9414e+08,  1.3751e+09],\n",
      "        [ 6.7315e+10, -5.6900e+10, -2.6682e+10],\n",
      "        [ 3.3761e+10, -2.3386e+10, -7.8846e+09],\n",
      "        [-2.5300e+10,  2.4858e+10,  1.3597e+10],\n",
      "        [ 1.7433e+11, -1.4615e+11, -6.4504e+10],\n",
      "        [-1.8051e+10,  2.4696e+10,  8.6494e+09],\n",
      "        [ 1.4639e+11, -1.1623e+11, -4.8964e+10],\n",
      "        [ 6.4693e+10, -4.4024e+10, -2.7599e+10],\n",
      "        [-3.2538e+09,  3.3637e+09,  4.5263e+09],\n",
      "        [-4.5683e+10,  2.7529e+10,  7.7448e+09],\n",
      "        [-3.7703e+09, -1.1905e+10, -7.0858e+08],\n",
      "        [ 3.0794e+10, -3.1009e+10, -1.2633e+10],\n",
      "        [-4.2649e+10,  3.2249e+10,  1.6203e+10],\n",
      "        [-3.4524e+10,  3.5227e+10,  1.5175e+10],\n",
      "        [-3.6491e+10,  2.7994e+10,  1.4945e+10],\n",
      "        [ 4.1480e+10, -2.9268e+10, -1.5721e+10],\n",
      "        [ 1.5894e+11, -7.9517e+10, -3.5620e+10],\n",
      "        [ 7.2328e+10, -4.7064e+10, -2.7449e+10],\n",
      "        [ 2.5223e+10, -1.8032e+10, -1.0862e+10],\n",
      "        [ 8.8083e+09, -9.0522e+09, -4.6103e+09],\n",
      "        [-2.8896e+10,  4.1391e+09,  6.6519e+09],\n",
      "        [-5.8833e+10,  7.1425e+10,  3.0280e+10],\n",
      "        [-7.5444e+10,  3.6143e+10,  2.3244e+10],\n",
      "        [ 3.2007e+10, -4.2516e+10, -1.9168e+10],\n",
      "        [ 2.2148e+10, -1.6742e+10, -8.1565e+09],\n",
      "        [-7.2364e+10,  8.5098e+10,  3.6355e+10],\n",
      "        [ 4.8056e+10, -4.9879e+10, -2.2120e+10],\n",
      "        [ 7.3771e+10, -4.4226e+10, -2.6860e+10],\n",
      "        [-7.8752e+10,  3.7055e+10,  2.5729e+10],\n",
      "        [-8.4520e+10,  7.1837e+10,  3.0196e+10]])\n",
      "tensor([-8.0039e+10,  1.3472e+11,  9.3474e+10,  4.5444e+10, -2.7495e+10,\n",
      "        -1.5641e+11, -1.8335e+11, -5.0874e+10,  1.6875e+11,  2.1508e+10,\n",
      "         8.4770e+09, -8.7033e+10, -3.9424e+10,  6.2853e+10, -2.0499e+11,\n",
      "         3.0502e+10, -1.1715e+11, -1.4358e+11,  2.5188e+10, -4.0037e+09,\n",
      "        -1.2721e+10, -4.3556e+10,  6.5359e+10,  5.7601e+10,  9.1203e+10,\n",
      "        -6.6640e+10, -4.9880e+10, -1.6465e+11, -6.0712e+10, -2.4953e+10,\n",
      "         2.6838e+10,  1.1380e+11,  1.2412e+11, -1.1844e+11, -4.6265e+10,\n",
      "         1.3347e+11, -8.8722e+10, -1.4776e+11,  1.3877e+11,  7.1864e+10])\n",
      "tensor([[-9.5187e+08, -6.5687e+09, -9.6576e+07,  ..., -5.7504e+09,\n",
      "          6.7102e+08,  1.3781e+09],\n",
      "        [ 9.2450e+08, -6.0736e+09, -3.9396e+09,  ..., -3.1108e+09,\n",
      "         -7.5238e+09, -6.6561e+08],\n",
      "        [-5.8063e+08, -1.8430e+09, -2.1202e+09,  ..., -1.5260e+09,\n",
      "         -3.2120e+09,  1.9532e+08],\n",
      "        ...,\n",
      "        [-2.6025e+09, -2.9804e+09, -2.5155e+08,  ..., -4.0910e+09,\n",
      "          1.1308e+08,  3.3305e+09],\n",
      "        [-4.6452e+08, -3.4308e+09,  1.4423e+09,  ..., -3.1791e+09,\n",
      "          2.6857e+09,  1.0903e+09],\n",
      "        [-2.1045e+09, -1.2502e+09,  2.0669e+09,  ..., -3.0018e+09,\n",
      "          9.5115e+08,  4.4544e+09]])\n",
      "tensor([ 3.0951e+09, -4.0220e+09,  1.4309e+09, -1.1093e+09,  1.0892e+10,\n",
      "         2.4013e+10,  5.8557e+09, -7.0497e+09, -1.7046e+09, -3.3550e+09,\n",
      "        -6.6983e+10,  4.6748e+08,  1.8626e+10,  8.6675e+09, -2.6404e+08,\n",
      "        -1.5991e+10,  2.3396e+08,  2.6560e+09, -1.4677e+10, -9.6722e+08,\n",
      "        -2.7632e+09, -1.1960e+09, -3.8041e+09,  1.5397e+09,  1.5295e+09,\n",
      "         1.0077e+09,  2.7429e+08,  3.0814e+08, -7.4849e+09,  1.4762e+08,\n",
      "        -1.1589e+10,  3.2766e+09, -1.4187e+09, -1.6754e+10,  7.7683e+08,\n",
      "        -6.9105e+09,  2.1753e+10,  9.6288e+09,  1.7592e+09,  8.2223e+09])\n",
      "tensor([[-8.6016e+09,  8.2737e+10,  1.5552e+10, -4.1986e+08, -4.8878e+10,\n",
      "          8.9844e+10, -1.2169e+11,  1.0124e+10,  2.3608e+10, -4.4338e+10,\n",
      "          4.6542e+11,  2.9495e+09,  2.9904e+10, -2.1071e+10, -5.9964e+10,\n",
      "          9.4703e+11, -7.1490e+09, -1.6683e+10,  3.8923e+11, -1.3932e+10,\n",
      "          1.4636e+10, -6.0208e+10, -1.5371e+10, -1.6527e+09, -1.0705e+10,\n",
      "          1.6884e+09, -3.7610e+10, -3.1330e+10, -4.2918e+10,  5.1397e+09,\n",
      "          6.8748e+11,  1.5367e+11,  2.9277e+10, -1.5722e+11,  3.2320e+10,\n",
      "          1.7732e+10,  1.0885e+12,  1.3862e+11, -1.0631e+10,  9.2661e+09],\n",
      "        [-7.0960e+08,  2.2964e+10, -9.5854e+09,  1.9180e+10, -1.1110e+10,\n",
      "          9.0725e+09, -3.3842e+10,  8.2366e+09,  2.4113e+09, -1.7131e+10,\n",
      "          2.4698e+10,  1.6600e+09,  9.9223e+09, -9.6762e+09, -4.4617e+10,\n",
      "          4.6457e+10,  1.6885e+08, -1.5657e+10,  6.2670e+10, -2.7752e+09,\n",
      "          1.7917e+10, -3.2403e+10,  1.6829e+09, -3.1861e+09, -7.0810e+09,\n",
      "          5.1393e+09, -1.5927e+10, -1.6693e+10, -1.3986e+09,  1.5377e+09,\n",
      "         -1.3588e+11,  1.2384e+10, -1.9916e+10, -2.2548e+10,  2.2069e+10,\n",
      "          8.0803e+09, -1.3187e+10,  1.3983e+10,  5.6131e+08,  1.1874e+10]])\n"
     ]
    },
    {
     "name": "stderr",
     "output_type": "stream",
     "text": [
      "Loss: 404000541491595313152.0000:   0%|          | 3/12000 [00:04<4:43:25,  1.42s/it]  "
     ]
    },
    {
     "ename": "KeyboardInterrupt",
     "evalue": "",
     "output_type": "error",
     "traceback": [
      "\u001b[0;31m---------------------------------------------------------------------------\u001b[0m",
      "\u001b[0;31mKeyboardInterrupt\u001b[0m                         Traceback (most recent call last)",
      "Cell \u001b[0;32mIn[9], line 1\u001b[0m\n\u001b[0;32m----> 1\u001b[0m pinn_trained, loss_values \u001b[38;5;241m=\u001b[39m \u001b[43mtrain_model\u001b[49m\u001b[43m(\u001b[49m\n\u001b[1;32m      2\u001b[0m \u001b[43m    \u001b[49m\u001b[43mpinn\u001b[49m\u001b[43m,\u001b[49m\u001b[43m \u001b[49m\u001b[43mloss_fn\u001b[49m\u001b[38;5;241;43m=\u001b[39;49m\u001b[43mloss_fn\u001b[49m\u001b[43m,\u001b[49m\u001b[43m \u001b[49m\u001b[43mlearning_rate\u001b[49m\u001b[38;5;241;43m=\u001b[39;49m\u001b[43mlr\u001b[49m\u001b[43m,\u001b[49m\u001b[43m \u001b[49m\u001b[43mmax_epochs\u001b[49m\u001b[38;5;241;43m=\u001b[39;49m\u001b[43mepochs\u001b[49m\u001b[43m)\u001b[49m\n",
      "File \u001b[0;32m~/EvolBERNPINN2D/pinn.py:331\u001b[0m, in \u001b[0;36mtrain_model\u001b[0;34m(nn_approximator, loss_fn, learning_rate, max_epochs)\u001b[0m\n\u001b[1;32m    328\u001b[0m optimizer\u001b[38;5;241m.\u001b[39mzero_grad()\n\u001b[1;32m    329\u001b[0m _, residual_loss, initial_loss, boundary_loss \u001b[38;5;241m=\u001b[39m loss_fn\u001b[38;5;241m.\u001b[39mverbose(nn_approximator)\n\u001b[0;32m--> 331\u001b[0m \u001b[43mresidual_loss\u001b[49m\u001b[38;5;241;43m.\u001b[39;49m\u001b[43mbackward\u001b[49m\u001b[43m(\u001b[49m\u001b[43mretain_graph\u001b[49m\u001b[38;5;241;43m=\u001b[39;49m\u001b[38;5;28;43;01mTrue\u001b[39;49;00m\u001b[43m)\u001b[49m\n\u001b[1;32m    332\u001b[0m grads\u001b[38;5;241m.\u001b[39mappend(obtain_max_grad(nn_approximator\u001b[38;5;241m.\u001b[39mnamed_parameters()))\n\u001b[1;32m    333\u001b[0m optimizer\u001b[38;5;241m.\u001b[39mzero_grad()\n",
      "File \u001b[0;32m~/.conda/envs/EvolBern/lib/python3.9/site-packages/torch/_tensor.py:525\u001b[0m, in \u001b[0;36mTensor.backward\u001b[0;34m(self, gradient, retain_graph, create_graph, inputs)\u001b[0m\n\u001b[1;32m    515\u001b[0m \u001b[38;5;28;01mif\u001b[39;00m has_torch_function_unary(\u001b[38;5;28mself\u001b[39m):\n\u001b[1;32m    516\u001b[0m     \u001b[38;5;28;01mreturn\u001b[39;00m handle_torch_function(\n\u001b[1;32m    517\u001b[0m         Tensor\u001b[38;5;241m.\u001b[39mbackward,\n\u001b[1;32m    518\u001b[0m         (\u001b[38;5;28mself\u001b[39m,),\n\u001b[0;32m   (...)\u001b[0m\n\u001b[1;32m    523\u001b[0m         inputs\u001b[38;5;241m=\u001b[39minputs,\n\u001b[1;32m    524\u001b[0m     )\n\u001b[0;32m--> 525\u001b[0m \u001b[43mtorch\u001b[49m\u001b[38;5;241;43m.\u001b[39;49m\u001b[43mautograd\u001b[49m\u001b[38;5;241;43m.\u001b[39;49m\u001b[43mbackward\u001b[49m\u001b[43m(\u001b[49m\n\u001b[1;32m    526\u001b[0m \u001b[43m    \u001b[49m\u001b[38;5;28;43mself\u001b[39;49m\u001b[43m,\u001b[49m\u001b[43m \u001b[49m\u001b[43mgradient\u001b[49m\u001b[43m,\u001b[49m\u001b[43m \u001b[49m\u001b[43mretain_graph\u001b[49m\u001b[43m,\u001b[49m\u001b[43m \u001b[49m\u001b[43mcreate_graph\u001b[49m\u001b[43m,\u001b[49m\u001b[43m \u001b[49m\u001b[43minputs\u001b[49m\u001b[38;5;241;43m=\u001b[39;49m\u001b[43minputs\u001b[49m\n\u001b[1;32m    527\u001b[0m \u001b[43m\u001b[49m\u001b[43m)\u001b[49m\n",
      "File \u001b[0;32m~/.conda/envs/EvolBern/lib/python3.9/site-packages/torch/autograd/__init__.py:267\u001b[0m, in \u001b[0;36mbackward\u001b[0;34m(tensors, grad_tensors, retain_graph, create_graph, grad_variables, inputs)\u001b[0m\n\u001b[1;32m    262\u001b[0m     retain_graph \u001b[38;5;241m=\u001b[39m create_graph\n\u001b[1;32m    264\u001b[0m \u001b[38;5;66;03m# The reason we repeat the same comment below is that\u001b[39;00m\n\u001b[1;32m    265\u001b[0m \u001b[38;5;66;03m# some Python versions print out the first line of a multi-line function\u001b[39;00m\n\u001b[1;32m    266\u001b[0m \u001b[38;5;66;03m# calls in the traceback and some print out the last line\u001b[39;00m\n\u001b[0;32m--> 267\u001b[0m \u001b[43m_engine_run_backward\u001b[49m\u001b[43m(\u001b[49m\n\u001b[1;32m    268\u001b[0m \u001b[43m    \u001b[49m\u001b[43mtensors\u001b[49m\u001b[43m,\u001b[49m\n\u001b[1;32m    269\u001b[0m \u001b[43m    \u001b[49m\u001b[43mgrad_tensors_\u001b[49m\u001b[43m,\u001b[49m\n\u001b[1;32m    270\u001b[0m \u001b[43m    \u001b[49m\u001b[43mretain_graph\u001b[49m\u001b[43m,\u001b[49m\n\u001b[1;32m    271\u001b[0m \u001b[43m    \u001b[49m\u001b[43mcreate_graph\u001b[49m\u001b[43m,\u001b[49m\n\u001b[1;32m    272\u001b[0m \u001b[43m    \u001b[49m\u001b[43minputs\u001b[49m\u001b[43m,\u001b[49m\n\u001b[1;32m    273\u001b[0m \u001b[43m    \u001b[49m\u001b[43mallow_unreachable\u001b[49m\u001b[38;5;241;43m=\u001b[39;49m\u001b[38;5;28;43;01mTrue\u001b[39;49;00m\u001b[43m,\u001b[49m\n\u001b[1;32m    274\u001b[0m \u001b[43m    \u001b[49m\u001b[43maccumulate_grad\u001b[49m\u001b[38;5;241;43m=\u001b[39;49m\u001b[38;5;28;43;01mTrue\u001b[39;49;00m\u001b[43m,\u001b[49m\n\u001b[1;32m    275\u001b[0m \u001b[43m\u001b[49m\u001b[43m)\u001b[49m\n",
      "File \u001b[0;32m~/.conda/envs/EvolBern/lib/python3.9/site-packages/torch/autograd/graph.py:744\u001b[0m, in \u001b[0;36m_engine_run_backward\u001b[0;34m(t_outputs, *args, **kwargs)\u001b[0m\n\u001b[1;32m    742\u001b[0m     unregister_hooks \u001b[38;5;241m=\u001b[39m _register_logging_hooks_on_whole_graph(t_outputs)\n\u001b[1;32m    743\u001b[0m \u001b[38;5;28;01mtry\u001b[39;00m:\n\u001b[0;32m--> 744\u001b[0m     \u001b[38;5;28;01mreturn\u001b[39;00m \u001b[43mVariable\u001b[49m\u001b[38;5;241;43m.\u001b[39;49m\u001b[43m_execution_engine\u001b[49m\u001b[38;5;241;43m.\u001b[39;49m\u001b[43mrun_backward\u001b[49m\u001b[43m(\u001b[49m\u001b[43m  \u001b[49m\u001b[38;5;66;43;03m# Calls into the C++ engine to run the backward pass\u001b[39;49;00m\n\u001b[1;32m    745\u001b[0m \u001b[43m        \u001b[49m\u001b[43mt_outputs\u001b[49m\u001b[43m,\u001b[49m\u001b[43m \u001b[49m\u001b[38;5;241;43m*\u001b[39;49m\u001b[43margs\u001b[49m\u001b[43m,\u001b[49m\u001b[43m \u001b[49m\u001b[38;5;241;43m*\u001b[39;49m\u001b[38;5;241;43m*\u001b[39;49m\u001b[43mkwargs\u001b[49m\n\u001b[1;32m    746\u001b[0m \u001b[43m    \u001b[49m\u001b[43m)\u001b[49m  \u001b[38;5;66;03m# Calls into the C++ engine to run the backward pass\u001b[39;00m\n\u001b[1;32m    747\u001b[0m \u001b[38;5;28;01mfinally\u001b[39;00m:\n\u001b[1;32m    748\u001b[0m     \u001b[38;5;28;01mif\u001b[39;00m attach_logging_hooks:\n",
      "\u001b[0;31mKeyboardInterrupt\u001b[0m: "
     ]
    }
   ],
   "source": [
    "pinn_trained, loss_values = train_model(\n",
    "    pinn, loss_fn=loss_fn, learning_rate=lr, max_epochs=epochs)"
   ]
  },
  {
   "cell_type": "code",
   "execution_count": null,
   "metadata": {
    "id": "Tp5m_1mJ0By3",
    "tags": []
   },
   "outputs": [],
   "source": [
    "current_time = get_current_time(fmt=\"%H:%M\")\n",
    "\n",
    "folder = 'model'\n",
    "model_name = f'{lr}_{epochs}_{dim_hidden}_{current_time}.pth'\n",
    "model_path = os.path.join(folder, model_name)\n",
    "os.makedirs(folder, exist_ok=True)\n",
    "\n",
    "torch.save(pinn_trained.state_dict(), model_path)"
   ]
  },
  {
   "cell_type": "code",
   "execution_count": null,
   "metadata": {
    "colab": {
     "base_uri": "https://localhost:8080/",
     "height": 17
    },
    "id": "yvHawzyAYkuW",
    "outputId": "4c3a7757-9298-4fe9-c1cb-1d159dc184ea",
    "tags": []
   },
   "outputs": [],
   "source": [
    "from plots import plot_initial_conditions, plot_solution\n",
    "\n",
    "x, y, _ = get_initial_points(x_domain, y_domain, t_domain, n_train)\n",
    "t_value = 0.0\n",
    "t = torch.full_like(x, t_value)\n",
    "x = x.to(device)\n",
    "y = y.to(device)\n",
    "t = t.to(device)\n",
    "z = f(pinn, x ,y, t)\n",
    "ux_0, uy_0 = initial_conditions(x, y, Lx, i = 1)\n",
    "z_0 = torch.cat((ux_0, uy_0), dim=1)\n",
    "\n",
    "plot_initial_conditions(z_0, y, x, 'Initial conditions - analytical', n_train, from_pinn = 0)\n",
    "plot_initial_conditions(z, y, x, 'Initial conditions - NN', n_train)"
   ]
  },
  {
   "cell_type": "code",
   "execution_count": null,
   "metadata": {},
   "outputs": [],
   "source": [
    "from IPython.display import HTML\n",
    "\n",
    "x, y, t = get_interior_points(x_domain, y_domain, t_domain, n_train)\n",
    "animation = plot_solution(pinn, x, y, t, n_train)\n",
    "HTML(animation.to_jshtml())"
   ]
  },
  {
   "cell_type": "markdown",
   "metadata": {
    "id": "9hqnVSEf3dgC"
   },
   "source": [
    "# To be added\n",
    "- ~separate loss in more bars to see how the various loss term come to zero~\n",
    "- see if some quadrature rule has been implemented\n",
    "- scheme of weights initialization in order to automatically satisfy initial conditions\n",
    "- plots (in progress)\n",
    "- NN operators (to generalize results)\n",
    "- try to implement function that allows that satisfy initial conditions?"
   ]
  },
  {
   "cell_type": "markdown",
   "metadata": {
    "id": "OLyts7jbh2i4"
   },
   "source": [
    "# To be fully understood\n",
    "- reshape when plotting (also different number of points allowed?)\n",
    "- ~not consistent initial conditions~ (between $u_x$ and $u_y$)?"
   ]
  }
 ],
 "metadata": {
  "accelerator": "GPU",
  "colab": {
   "gpuType": "T4",
   "provenance": []
  },
  "kernelspec": {
   "display_name": "EvolBern:Python",
   "language": "python",
   "name": "conda-env-EvolBern-py"
  },
  "language_info": {
   "codemirror_mode": {
    "name": "ipython",
    "version": 3
   },
   "file_extension": ".py",
   "mimetype": "text/x-python",
   "name": "python",
   "nbconvert_exporter": "python",
   "pygments_lexer": "ipython3",
   "version": "3.9.19"
  },
  "toc-autonumbering": false,
  "toc-showcode": true,
  "toc-showmarkdowntxt": true
 },
 "nbformat": 4,
 "nbformat_minor": 4
}
