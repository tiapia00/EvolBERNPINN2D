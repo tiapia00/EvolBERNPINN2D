{
 "cells": [
  {
   "cell_type": "code",
   "execution_count": 1,
   "metadata": {
    "tags": []
   },
   "outputs": [],
   "source": [
    "import json\n",
    "import numpy as np\n",
    "import os"
   ]
  },
  {
   "cell_type": "code",
   "execution_count": 2,
   "metadata": {
    "tags": []
   },
   "outputs": [],
   "source": [
    "from pinn import *\n",
    "from nn import NN\n",
    "import numpy as np\n",
    "from read_write import resolve_json, get_params_PINN, get_params_mat, get_last_modified_file\n",
    "\n",
    "retrain_init = False\n",
    "retrain_PINN = True\n",
    "\n",
    "torch.set_default_dtype(torch.float32)\n",
    "device = torch.device(\"cuda\" if torch.cuda.is_available() else \"cpu\")"
   ]
  },
  {
   "cell_type": "code",
   "execution_count": 3,
   "metadata": {},
   "outputs": [],
   "source": [
    "resolve_json('par.j2')"
   ]
  },
  {
   "cell_type": "code",
   "execution_count": 4,
   "metadata": {},
   "outputs": [],
   "source": [
    "if retrain_init:\n",
    "    %run initialization_NN.py"
   ]
  },
  {
   "cell_type": "code",
   "execution_count": 5,
   "metadata": {
    "id": "yYakGVopXcjP",
    "tags": []
   },
   "outputs": [],
   "source": [
    "from initialize_matpar import to_matpar_PINN\n",
    "\n",
    "E, rho, _ , nu = get_params_mat('par_resolved.json')\n",
    "\n",
    "lam, mu = to_matpar_PINN(E, nu)\n",
    "\n",
    "Lx, Ly, T, n_train, layers, dim_hidden, lr, epochs, weight_IN, weight_BOUND = get_params_PINN('par_resolved.json')\n",
    "\n",
    "x_domain = np.array([0.0, Lx])/Lx\n",
    "y_domain = np.array([0.0, Ly])/Lx\n",
    "t_domain = np.array([0.0, T])/T"
   ]
  },
  {
   "cell_type": "code",
   "execution_count": 6,
   "metadata": {
    "tags": []
   },
   "outputs": [],
   "source": [
    "pinn = PINN(layers, dim_hidden, act=nn.Tanh()).to(device)\n",
    "\n",
    "loss_fn = Loss(\n",
    "    x_domain,\n",
    "    y_domain,\n",
    "    t_domain,\n",
    "    n_train,\n",
    "    return_adim(x_domain, t_domain, rho, mu, lam),\n",
    "    initial_conditions,\n",
    "    weight_IN,\n",
    "    weight_BOUND\n",
    ")"
   ]
  },
  {
   "cell_type": "code",
   "execution_count": null,
   "metadata": {
    "tags": []
   },
   "outputs": [
    {
     "name": "stdout",
     "output_type": "stream",
     "text": [
      "Folder '2024-05-02' already exists.\n"
     ]
    },
    {
     "name": "stderr",
     "output_type": "stream",
     "text": [
      "Loss: 0.98:  88%|████████▊ | 1314/1500 [02:53<00:24,  7.62it/s] "
     ]
    }
   ],
   "source": [
    "if retrain_PINN:\n",
    "    pinn = PINN(layers, dim_hidden, act=nn.Tanh()).to(device)\n",
    "\n",
    "    loss_fn = Loss(\n",
    "        x_domain,\n",
    "        y_domain,\n",
    "        t_domain,\n",
    "        n_train,\n",
    "        return_adim(x_domain, t_domain, rho, mu, lam),\n",
    "        initial_conditions,\n",
    "        weight_IN,\n",
    "        weight_BOUND\n",
    "    )\n",
    "    \n",
    "    filename_model = get_last_modified_file('in_model')\n",
    "    pretrained_model_dict = torch.load(filename_model, map_location=torch.device(device))\n",
    "\n",
    "    pretrained_model = NN(layers, dim_hidden, 2, 1)\n",
    "    pretrained_model.load_state_dict(pretrained_model_dict)\n",
    "\n",
    "    for i in np.arange(len(pinn.middle_layers)):\n",
    "        pinn_layer = pinn.middle_layers[i]\n",
    "        pretrained_layer = pretrained_model.middle_layers[i]\n",
    "        pinn.middle_layers[i].weight.data.copy_(pretrained_model.middle_layers[i].weight)\n",
    "        pinn.middle_layers[i].bias.data.copy_(pretrained_model.middle_layers[i].bias)\n",
    "\n",
    "    pinn_trained, loss_values = train_model(\n",
    "    pinn, loss_fn=loss_fn, learning_rate=lr, max_epochs=epochs)\n",
    "\n",
    "    current_time = get_current_time(fmt=\"%H:%M\")\n",
    "\n",
    "    folder = 'model'\n",
    "    model_name = f'{lr}_{epochs}_{dim_hidden}_{current_time}.pth'\n",
    "    model_path = os.path.join(folder, model_name)\n",
    "    os.makedirs(folder, exist_ok=True)\n",
    "\n",
    "    torch.save(pinn_trained.state_dict(), model_path)\n",
    "    \n",
    "else:\n",
    "    pinn_trained = PINN(layers, dim_hidden, act=nn.Tanh()).to(device)\n",
    "    filename = get_last_modified_file('model')\n",
    "    pinn_trained.load_state_dict(torch.load(filename, map_location = device))"
   ]
  },
  {
   "cell_type": "markdown",
   "metadata": {},
   "source": [
    "# Train new network with pretrained weights and biases in middle layers"
   ]
  },
  {
   "cell_type": "code",
   "execution_count": null,
   "metadata": {},
   "outputs": [],
   "source": [
    "pinn_trained.eval()"
   ]
  },
  {
   "cell_type": "code",
   "execution_count": null,
   "metadata": {
    "colab": {
     "base_uri": "https://localhost:8080/",
     "height": 17
    },
    "id": "yvHawzyAYkuW",
    "outputId": "4c3a7757-9298-4fe9-c1cb-1d159dc184ea",
    "tags": []
   },
   "outputs": [],
   "source": [
    "from plots import plot_initial_conditions, plot_uy\n",
    "\n",
    "x, y, _ = get_initial_points(x_domain, y_domain, t_domain, n_train)\n",
    "t_value = 0.0\n",
    "t = torch.full_like(x, t_value)\n",
    "x = x.to(device)\n",
    "y = y.to(device)\n",
    "t = t.to(device)\n",
    "z = f(pinn_trained, x ,y, t)\n",
    "ux_0, uy_0 = initial_conditions(x, y, Lx, i = 1)\n",
    "z_0 = torch.cat((ux_0, uy_0), dim=1)\n",
    "\n",
    "plot_initial_conditions(z_0, y, x, 'Initial conditions - analytical', n_train, from_pinn = 0)\n",
    "plot_initial_conditions(z, y, x, 'Initial conditions - NN', n_train)"
   ]
  },
  {
   "cell_type": "code",
   "execution_count": null,
   "metadata": {},
   "outputs": [],
   "source": [
    "x, y, t = get_interior_points(x_domain, y_domain, t_domain, n_train)\n",
    "plot_uy(pinn_trained, x, y, t, n_train)"
   ]
  },
  {
   "cell_type": "markdown",
   "metadata": {
    "id": "9hqnVSEf3dgC"
   },
   "source": [
    "# To be added\n",
    "- ~separate loss in more bars to see how the various loss term come to zero~\n",
    "- see if some quadrature rule has been implemented\n",
    "- scheme of weights initialization in order to automatically satisfy initial conditions\n",
    "- plots (in progress)\n",
    "- NN operators (to generalize results)\n",
    "- try to implement function that allows that satisfy initial conditions?"
   ]
  },
  {
   "cell_type": "markdown",
   "metadata": {
    "id": "OLyts7jbh2i4"
   },
   "source": [
    "# To be fully understood\n",
    "- reshape when plotting (also different number of points allowed?)\n",
    "- ~not consistent initial conditions~ (between $u_x$ and $u_y$)?"
   ]
  }
 ],
 "metadata": {
  "accelerator": "GPU",
  "colab": {
   "gpuType": "T4",
   "provenance": []
  },
  "kernelspec": {
   "display_name": "EvolBern:Python",
   "language": "python",
   "name": "conda-env-EvolBern-py"
  },
  "language_info": {
   "codemirror_mode": {
    "name": "ipython",
    "version": 3
   },
   "file_extension": ".py",
   "mimetype": "text/x-python",
   "name": "python",
   "nbconvert_exporter": "python",
   "pygments_lexer": "ipython3",
   "version": "3.9.19"
  },
  "toc-autonumbering": false,
  "toc-showcode": true,
  "toc-showmarkdowntxt": true
 },
 "nbformat": 4,
 "nbformat_minor": 4
}
