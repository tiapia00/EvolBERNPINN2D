{
 "cells": [
  {
   "cell_type": "markdown",
   "id": "cbd32c97-e6f6-45ce-9516-7df472e705f5",
   "metadata": {},
   "source": [
    "# Generate reference solution"
   ]
  },
  {
   "cell_type": "code",
   "execution_count": 2,
   "id": "b4e98601-1998-47a1-b058-5e6ed40f2827",
   "metadata": {},
   "outputs": [],
   "source": [
    "import numpy as np\n",
    "import torch\n",
    "from torch import nn\n",
    "from typing import Tuple\n",
    "import json"
   ]
  },
  {
   "cell_type": "code",
   "execution_count": 3,
   "id": "e110fd74-25ac-4792-a64f-57bf658278a3",
   "metadata": {},
   "outputs": [],
   "source": [
    "def read_json(filename):\n",
    "    with open(filename, 'r') as file:\n",
    "        return json.load(file)"
   ]
  },
  {
   "cell_type": "code",
   "execution_count": 4,
   "id": "f5adaefa-0825-4927-899a-949c68c9926b",
   "metadata": {},
   "outputs": [],
   "source": [
    "torch.set_default_dtype(torch.float32)\n",
    "device = torch.device(\"cuda\" if torch.cuda.is_available() else \"cpu\")\n",
    "model_file = \"Initial_NN.torch\""
   ]
  },
  {
   "cell_type": "code",
   "execution_count": 5,
   "id": "2409f0da-8a3a-4bcb-9351-1d147ee341cd",
   "metadata": {
    "tags": []
   },
   "outputs": [],
   "source": [
    "from Classes_Beam import Beam, Prob_Solv_modes, In_Cond"
   ]
  },
  {
   "cell_type": "code",
   "execution_count": 6,
   "id": "b4387625-3d82-4dd6-9e59-1745b1352446",
   "metadata": {},
   "outputs": [],
   "source": [
    "par = read_json('par.json')\n",
    "\n",
    "Lx = par['x']\n",
    "t = par['t']\n",
    "n = par['n']\n",
    "\n",
    "num_hidden = par['n_layers']\n",
    "dim_hidden = par['n_neurons']"
   ]
  },
  {
   "cell_type": "code",
   "execution_count": 7,
   "id": "0f71b972-2213-4a29-8114-7938e9867204",
   "metadata": {
    "tags": []
   },
   "outputs": [],
   "source": [
    "my_beam = Beam(Lx, 68e9, 2700, 8e-3, 40e-3, n)"
   ]
  },
  {
   "cell_type": "code",
   "execution_count": 8,
   "id": "9fea276d-4bac-4914-a22b-ce1dc550ffa8",
   "metadata": {},
   "outputs": [],
   "source": [
    "prob = Prob_Solv_modes(my_beam)\n",
    "\n",
    "gamma_max = 100 # gamma_max must be increased, because spatial eigenfrequencies increase, since the beam is very short\n",
    "\n",
    "prob.pass_g_max(gamma_max)\n",
    "eig_gam = prob.find_eig()\n",
    "\n",
    "my_beam.gamma = np.array(eig_gam)\n",
    "my_beam.update_freq()\n",
    "\n",
    "# Just one parameter independent for gamma (order of the system reduced)\n",
    "F = prob.find_all_F(my_beam)\n",
    "prob.update_gamma(my_beam)\n",
    "phi = prob.return_modemat(F)\n",
    "my_beam.update_phi(phi)"
   ]
  },
  {
   "cell_type": "code",
   "execution_count": 9,
   "id": "d8411d4b-567c-4a23-b830-453ea6013f10",
   "metadata": {},
   "outputs": [],
   "source": [
    "my_In_Cond = In_Cond(my_beam)\n",
    "\n",
    "w_0 = my_beam.phi[:,0]\n",
    "w_dot_0 = np.zeros(len(w_0))\n",
    "\n",
    "my_In_Cond.pass_init_cond(w_0, w_dot_0)\n",
    "A, B = my_In_Cond.compute_coeff()\n",
    "\n",
    "t = np.linspace(0, 1, n)\n",
    "my_beam.calculate_solution(A, B, t)\n",
    "w = my_beam.w"
   ]
  },
  {
   "cell_type": "code",
   "execution_count": 10,
   "id": "c24d9bca-a0b3-438c-ada2-55228a923539",
   "metadata": {},
   "outputs": [],
   "source": [
    "def adimensionalize_sol(w: np.ndarray, w_ast: float):\n",
    "    return w/w_ast\n",
    "\n",
    "w_ad = adimensionalize_sol(w, Lx).T"
   ]
  },
  {
   "cell_type": "markdown",
   "id": "e880882f-97bd-488c-bf6d-d7ddd967562f",
   "metadata": {},
   "source": [
    "correct to transpose it? based on how reshape works\n",
    "- columns of w are referred to different time points"
   ]
  },
  {
   "cell_type": "markdown",
   "id": "eb3c898a-d370-4461-aec5-c7c4c1c45364",
   "metadata": {},
   "source": [
    "# Setup NN for initial conditions"
   ]
  },
  {
   "cell_type": "markdown",
   "id": "a737bd4d-ddba-4100-9e03-266155eb9e31",
   "metadata": {},
   "source": [
    "## Define training dataset"
   ]
  },
  {
   "cell_type": "code",
   "execution_count": 11,
   "id": "f57f224b-de96-4c57-bf8a-e02e4525664e",
   "metadata": {},
   "outputs": [],
   "source": [
    "x = np.linspace(0, 1, n)\n",
    "\n",
    "X, T = np.meshgrid(x, t)\n",
    "X = X.reshape(-1, 1)\n",
    "T = T.reshape(-1, 1)\n",
    "\n",
    "x = torch.tensor(X).to(device).float()\n",
    "t = torch.tensor(T).to(device).float()"
   ]
  },
  {
   "cell_type": "markdown",
   "id": "ca6418d2-0450-42b3-acda-bbddccbff6ce",
   "metadata": {},
   "source": [
    "## Prepare data for pytorch"
   ]
  },
  {
   "cell_type": "code",
   "execution_count": 12,
   "id": "1659b78e-8480-48bb-a8ae-8e8160eae178",
   "metadata": {},
   "outputs": [],
   "source": [
    "y = torch.tensor(w_ad).float()\n",
    "y = y.reshape(-1, 1).to(device)"
   ]
  },
  {
   "cell_type": "code",
   "execution_count": 16,
   "id": "8cc68882-38e7-42a1-bf73-0ec07b0ea628",
   "metadata": {
    "tags": []
   },
   "outputs": [],
   "source": [
    "from Classes_NN import *"
   ]
  },
  {
   "cell_type": "code",
   "execution_count": 17,
   "id": "1d5388d7-fca0-4a46-be48-be354b0f0b97",
   "metadata": {},
   "outputs": [],
   "source": [
    "nn = NN(num_hidden, dim_hidden, dim_input = 2, dim_output = 1)"
   ]
  },
  {
   "cell_type": "code",
   "execution_count": 18,
   "id": "1b54c8fa-fe6a-450a-a3a8-a684a64afc4d",
   "metadata": {},
   "outputs": [],
   "source": [
    "from tqdm import tqdm\n",
    "from typing import Callable\n",
    "import pytz\n",
    "\n",
    "epochs = 8000\n",
    "lr = 0.01\n",
    "\n",
    "loss_fn = Loss(\n",
    "    x,\n",
    "    t,\n",
    "    y\n",
    ")"
   ]
  },
  {
   "cell_type": "code",
   "execution_count": 19,
   "id": "dc9b1777-dbe7-4266-96cd-7c007916d2c1",
   "metadata": {},
   "outputs": [
    {
     "name": "stderr",
     "output_type": "stream",
     "text": [
      "Loss: 6.2223:   4%|▍         | 343/8000 [00:02<00:45, 168.90it/s]"
     ]
    },
    {
     "ename": "KeyboardInterrupt",
     "evalue": "",
     "output_type": "error",
     "traceback": [
      "\u001b[0;31m---------------------------------------------------------------------------\u001b[0m",
      "\u001b[0;31mKeyboardInterrupt\u001b[0m                         Traceback (most recent call last)",
      "Cell \u001b[0;32mIn[19], line 3\u001b[0m\n\u001b[1;32m      1\u001b[0m \u001b[38;5;28;01mfrom\u001b[39;00m \u001b[38;5;21;01mdatetime\u001b[39;00m \u001b[38;5;28;01mimport\u001b[39;00m datetime\n\u001b[0;32m----> 3\u001b[0m pinn_trained, loss_values \u001b[38;5;241m=\u001b[39m \u001b[43mtrain_model\u001b[49m\u001b[43m(\u001b[49m\n\u001b[1;32m      4\u001b[0m \u001b[43m    \u001b[49m\u001b[43mnn\u001b[49m\u001b[43m,\u001b[49m\u001b[43m \u001b[49m\u001b[43mloss_fn\u001b[49m\u001b[38;5;241;43m=\u001b[39;49m\u001b[43mloss_fn\u001b[49m\u001b[43m,\u001b[49m\u001b[43m \u001b[49m\u001b[43mlearning_rate\u001b[49m\u001b[38;5;241;43m=\u001b[39;49m\u001b[43mlr\u001b[49m\u001b[43m,\u001b[49m\u001b[43m \u001b[49m\u001b[43mmax_epochs\u001b[49m\u001b[38;5;241;43m=\u001b[39;49m\u001b[43mepochs\u001b[49m\u001b[43m)\u001b[49m\n",
      "File \u001b[0;32m~/EvolBERNPINN2D/Classes_NN.py:93\u001b[0m, in \u001b[0;36mtrain_model\u001b[0;34m(nn_approximator, loss_fn, learning_rate, max_epochs)\u001b[0m\n\u001b[1;32m     89\u001b[0m pbar \u001b[38;5;241m=\u001b[39m tqdm(total\u001b[38;5;241m=\u001b[39mmax_epochs, desc\u001b[38;5;241m=\u001b[39m\u001b[38;5;124m\"\u001b[39m\u001b[38;5;124mTraining\u001b[39m\u001b[38;5;124m\"\u001b[39m, position\u001b[38;5;241m=\u001b[39m\u001b[38;5;241m0\u001b[39m)\n\u001b[1;32m     91\u001b[0m \u001b[38;5;28;01mfor\u001b[39;00m epoch \u001b[38;5;129;01min\u001b[39;00m \u001b[38;5;28mrange\u001b[39m(max_epochs):\n\u001b[0;32m---> 93\u001b[0m     loss: torch\u001b[38;5;241m.\u001b[39mTensor \u001b[38;5;241m=\u001b[39m \u001b[43mloss_fn\u001b[49m\u001b[43m(\u001b[49m\u001b[43mnn_approximator\u001b[49m\u001b[43m)\u001b[49m\n\u001b[1;32m     94\u001b[0m     loss \u001b[38;5;241m=\u001b[39m loss_fn(nn_approximator)\n\u001b[1;32m     95\u001b[0m     optimizer\u001b[38;5;241m.\u001b[39mzero_grad()\n",
      "File \u001b[0;32m~/EvolBERNPINN2D/Classes_NN.py:70\u001b[0m, in \u001b[0;36mLoss.__call__\u001b[0;34m(self, nn)\u001b[0m\n\u001b[1;32m     61\u001b[0m \u001b[38;5;28;01mdef\u001b[39;00m \u001b[38;5;21m__call__\u001b[39m(\u001b[38;5;28mself\u001b[39m, nn: NN):\n\u001b[1;32m     62\u001b[0m \u001b[38;5;250m    \u001b[39m\u001b[38;5;124;03m\"\"\"\u001b[39;00m\n\u001b[1;32m     63\u001b[0m \u001b[38;5;124;03m    Allows you to use instance of this class as if it was a function:\u001b[39;00m\n\u001b[1;32m     64\u001b[0m \n\u001b[0;32m   (...)\u001b[0m\n\u001b[1;32m     68\u001b[0m \u001b[38;5;124;03m    ```\u001b[39;00m\n\u001b[1;32m     69\u001b[0m \u001b[38;5;124;03m    \"\"\"\u001b[39;00m\n\u001b[0;32m---> 70\u001b[0m     \u001b[38;5;28;01mreturn\u001b[39;00m \u001b[38;5;28;43mself\u001b[39;49m\u001b[38;5;241;43m.\u001b[39;49m\u001b[43mloss\u001b[49m\u001b[43m(\u001b[49m\u001b[43mnn\u001b[49m\u001b[43m)\u001b[49m\n",
      "File \u001b[0;32m~/EvolBERNPINN2D/Classes_NN.py:57\u001b[0m, in \u001b[0;36mLoss.loss\u001b[0;34m(self, nn)\u001b[0m\n\u001b[1;32m     56\u001b[0m \u001b[38;5;28;01mdef\u001b[39;00m \u001b[38;5;21mloss\u001b[39m(\u001b[38;5;28mself\u001b[39m, nn: NN):\n\u001b[0;32m---> 57\u001b[0m     output \u001b[38;5;241m=\u001b[39m \u001b[43mf\u001b[49m\u001b[43m(\u001b[49m\u001b[43mnn\u001b[49m\u001b[43m,\u001b[49m\u001b[43m \u001b[49m\u001b[38;5;28;43mself\u001b[39;49m\u001b[38;5;241;43m.\u001b[39;49m\u001b[43mX\u001b[49m\u001b[43m,\u001b[49m\u001b[43m \u001b[49m\u001b[38;5;28;43mself\u001b[39;49m\u001b[38;5;241;43m.\u001b[39;49m\u001b[43mT\u001b[49m\u001b[43m)\u001b[49m\n\u001b[1;32m     58\u001b[0m     loss \u001b[38;5;241m=\u001b[39m output \u001b[38;5;241m-\u001b[39m \u001b[38;5;28mself\u001b[39m\u001b[38;5;241m.\u001b[39my_true\n\u001b[1;32m     59\u001b[0m     \u001b[38;5;28;01mreturn\u001b[39;00m loss\u001b[38;5;241m.\u001b[39mpow(\u001b[38;5;241m2\u001b[39m)\u001b[38;5;241m.\u001b[39mmean()\n",
      "File \u001b[0;32m~/EvolBERNPINN2D/Classes_NN.py:113\u001b[0m, in \u001b[0;36mf\u001b[0;34m(nn, x, t)\u001b[0m\n\u001b[1;32m    110\u001b[0m \u001b[38;5;28;01mdef\u001b[39;00m \u001b[38;5;21mf\u001b[39m(nn: NN, x: torch\u001b[38;5;241m.\u001b[39mTensor, t: torch\u001b[38;5;241m.\u001b[39mTensor) \u001b[38;5;241m-\u001b[39m\u001b[38;5;241m>\u001b[39m torch\u001b[38;5;241m.\u001b[39mTensor:\n\u001b[1;32m    111\u001b[0m \u001b[38;5;250m    \u001b[39m\u001b[38;5;124;03m\"\"\"Compute the value of the approximate solution from the NN model\u001b[39;00m\n\u001b[1;32m    112\u001b[0m \u001b[38;5;124;03m    Internally calling the forward method when calling the class as a function\"\"\"\u001b[39;00m\n\u001b[0;32m--> 113\u001b[0m     \u001b[38;5;28;01mreturn\u001b[39;00m \u001b[43mnn\u001b[49m\u001b[43m(\u001b[49m\u001b[43mx\u001b[49m\u001b[43m,\u001b[49m\u001b[43m \u001b[49m\u001b[43mt\u001b[49m\u001b[43m)\u001b[49m\n",
      "File \u001b[0;32m~/.conda/envs/EvolBern/lib/python3.9/site-packages/torch/nn/modules/module.py:1532\u001b[0m, in \u001b[0;36mModule._wrapped_call_impl\u001b[0;34m(self, *args, **kwargs)\u001b[0m\n\u001b[1;32m   1530\u001b[0m     \u001b[38;5;28;01mreturn\u001b[39;00m \u001b[38;5;28mself\u001b[39m\u001b[38;5;241m.\u001b[39m_compiled_call_impl(\u001b[38;5;241m*\u001b[39margs, \u001b[38;5;241m*\u001b[39m\u001b[38;5;241m*\u001b[39mkwargs)  \u001b[38;5;66;03m# type: ignore[misc]\u001b[39;00m\n\u001b[1;32m   1531\u001b[0m \u001b[38;5;28;01melse\u001b[39;00m:\n\u001b[0;32m-> 1532\u001b[0m     \u001b[38;5;28;01mreturn\u001b[39;00m \u001b[38;5;28;43mself\u001b[39;49m\u001b[38;5;241;43m.\u001b[39;49m\u001b[43m_call_impl\u001b[49m\u001b[43m(\u001b[49m\u001b[38;5;241;43m*\u001b[39;49m\u001b[43margs\u001b[49m\u001b[43m,\u001b[49m\u001b[43m \u001b[49m\u001b[38;5;241;43m*\u001b[39;49m\u001b[38;5;241;43m*\u001b[39;49m\u001b[43mkwargs\u001b[49m\u001b[43m)\u001b[49m\n",
      "File \u001b[0;32m~/.conda/envs/EvolBern/lib/python3.9/site-packages/torch/nn/modules/module.py:1541\u001b[0m, in \u001b[0;36mModule._call_impl\u001b[0;34m(self, *args, **kwargs)\u001b[0m\n\u001b[1;32m   1536\u001b[0m \u001b[38;5;66;03m# If we don't have any hooks, we want to skip the rest of the logic in\u001b[39;00m\n\u001b[1;32m   1537\u001b[0m \u001b[38;5;66;03m# this function, and just call forward.\u001b[39;00m\n\u001b[1;32m   1538\u001b[0m \u001b[38;5;28;01mif\u001b[39;00m \u001b[38;5;129;01mnot\u001b[39;00m (\u001b[38;5;28mself\u001b[39m\u001b[38;5;241m.\u001b[39m_backward_hooks \u001b[38;5;129;01mor\u001b[39;00m \u001b[38;5;28mself\u001b[39m\u001b[38;5;241m.\u001b[39m_backward_pre_hooks \u001b[38;5;129;01mor\u001b[39;00m \u001b[38;5;28mself\u001b[39m\u001b[38;5;241m.\u001b[39m_forward_hooks \u001b[38;5;129;01mor\u001b[39;00m \u001b[38;5;28mself\u001b[39m\u001b[38;5;241m.\u001b[39m_forward_pre_hooks\n\u001b[1;32m   1539\u001b[0m         \u001b[38;5;129;01mor\u001b[39;00m _global_backward_pre_hooks \u001b[38;5;129;01mor\u001b[39;00m _global_backward_hooks\n\u001b[1;32m   1540\u001b[0m         \u001b[38;5;129;01mor\u001b[39;00m _global_forward_hooks \u001b[38;5;129;01mor\u001b[39;00m _global_forward_pre_hooks):\n\u001b[0;32m-> 1541\u001b[0m     \u001b[38;5;28;01mreturn\u001b[39;00m \u001b[43mforward_call\u001b[49m\u001b[43m(\u001b[49m\u001b[38;5;241;43m*\u001b[39;49m\u001b[43margs\u001b[49m\u001b[43m,\u001b[49m\u001b[43m \u001b[49m\u001b[38;5;241;43m*\u001b[39;49m\u001b[38;5;241;43m*\u001b[39;49m\u001b[43mkwargs\u001b[49m\u001b[43m)\u001b[49m\n\u001b[1;32m   1543\u001b[0m \u001b[38;5;28;01mtry\u001b[39;00m:\n\u001b[1;32m   1544\u001b[0m     result \u001b[38;5;241m=\u001b[39m \u001b[38;5;28;01mNone\u001b[39;00m\n",
      "File \u001b[0;32m~/EvolBERNPINN2D/Classes_NN.py:34\u001b[0m, in \u001b[0;36mNN.forward\u001b[0;34m(self, x, t)\u001b[0m\n\u001b[1;32m     31\u001b[0m \u001b[38;5;28;01mdef\u001b[39;00m \u001b[38;5;21mforward\u001b[39m(\u001b[38;5;28mself\u001b[39m, x, t):\n\u001b[1;32m     33\u001b[0m     x_stack \u001b[38;5;241m=\u001b[39m torch\u001b[38;5;241m.\u001b[39mcat([x, t], dim\u001b[38;5;241m=\u001b[39m\u001b[38;5;241m1\u001b[39m)\n\u001b[0;32m---> 34\u001b[0m     out \u001b[38;5;241m=\u001b[39m \u001b[38;5;28;43mself\u001b[39;49m\u001b[38;5;241;43m.\u001b[39;49m\u001b[43mact\u001b[49m(\u001b[38;5;28mself\u001b[39m\u001b[38;5;241m.\u001b[39mlayer_in(x_stack))\n\u001b[1;32m     35\u001b[0m     \u001b[38;5;28;01mfor\u001b[39;00m layer \u001b[38;5;129;01min\u001b[39;00m \u001b[38;5;28mself\u001b[39m\u001b[38;5;241m.\u001b[39mmiddle_layers:\n\u001b[1;32m     36\u001b[0m         out \u001b[38;5;241m=\u001b[39m \u001b[38;5;28mself\u001b[39m\u001b[38;5;241m.\u001b[39mact(layer(out))\n",
      "File \u001b[0;32m~/.conda/envs/EvolBern/lib/python3.9/site-packages/torch/nn/modules/module.py:1696\u001b[0m, in \u001b[0;36mModule.__getattr__\u001b[0;34m(self, name)\u001b[0m\n\u001b[1;32m   1687\u001b[0m         \u001b[38;5;28mself\u001b[39m\u001b[38;5;241m.\u001b[39m_backward_pre_hooks \u001b[38;5;241m=\u001b[39m OrderedDict()\n\u001b[1;32m   1689\u001b[0m \u001b[38;5;66;03m# On the return type:\u001b[39;00m\n\u001b[1;32m   1690\u001b[0m \u001b[38;5;66;03m# We choose to return `Any` in the `__getattr__` type signature instead of a more strict `Union[Tensor, Module]`.\u001b[39;00m\n\u001b[1;32m   1691\u001b[0m \u001b[38;5;66;03m# This is done for better interop with various type checkers for the end users.\u001b[39;00m\n\u001b[0;32m   (...)\u001b[0m\n\u001b[1;32m   1694\u001b[0m \u001b[38;5;66;03m# See full discussion on the problems with returning `Union` here\u001b[39;00m\n\u001b[1;32m   1695\u001b[0m \u001b[38;5;66;03m# https://github.com/microsoft/pyright/issues/4213\u001b[39;00m\n\u001b[0;32m-> 1696\u001b[0m \u001b[38;5;28;01mdef\u001b[39;00m \u001b[38;5;21m__getattr__\u001b[39m(\u001b[38;5;28mself\u001b[39m, name: \u001b[38;5;28mstr\u001b[39m) \u001b[38;5;241m-\u001b[39m\u001b[38;5;241m>\u001b[39m Any:\n\u001b[1;32m   1697\u001b[0m     \u001b[38;5;28;01mif\u001b[39;00m \u001b[38;5;124m'\u001b[39m\u001b[38;5;124m_parameters\u001b[39m\u001b[38;5;124m'\u001b[39m \u001b[38;5;129;01min\u001b[39;00m \u001b[38;5;28mself\u001b[39m\u001b[38;5;241m.\u001b[39m\u001b[38;5;18m__dict__\u001b[39m:\n\u001b[1;32m   1698\u001b[0m         _parameters \u001b[38;5;241m=\u001b[39m \u001b[38;5;28mself\u001b[39m\u001b[38;5;241m.\u001b[39m\u001b[38;5;18m__dict__\u001b[39m[\u001b[38;5;124m'\u001b[39m\u001b[38;5;124m_parameters\u001b[39m\u001b[38;5;124m'\u001b[39m]\n",
      "\u001b[0;31mKeyboardInterrupt\u001b[0m: "
     ]
    }
   ],
   "source": [
    "from datetime import datetime\n",
    "\n",
    "pinn_trained, loss_values = train_model(\n",
    "    nn, loss_fn=loss_fn, learning_rate=lr, max_epochs=epochs)"
   ]
  },
  {
   "cell_type": "code",
   "execution_count": 16,
   "id": "709e3c70-01fe-4636-93b4-f078d55d99b5",
   "metadata": {
    "tags": []
   },
   "outputs": [],
   "source": [
    "import os\n",
    "\n",
    "def obtain_date():\n",
    "    current_datetime = datetime.now()\n",
    "    formatted_datetime = current_datetime.strftime(\"%B %d - %H:%M\")    \n",
    "    return formatted_datetime\n",
    "\n",
    "folder = 'in_model'\n",
    "model_name = f'{obtain_date()}.pth'\n",
    "model_path = os.path.join(folder, model_name)\n",
    "os.makedirs(folder, exist_ok=True)\n",
    "\n",
    "torch.save(nn.state_dict(), model_path)"
   ]
  },
  {
   "cell_type": "markdown",
   "id": "ecd64aad-ed9e-4f5b-aad8-b2770959f38c",
   "metadata": {},
   "source": [
    "# To be checked\n",
    "- ~correct association of meshpoints with solution?~"
   ]
  },
  {
   "cell_type": "code",
   "execution_count": null,
   "id": "8a0aa180-9f85-49c9-a0d8-5835dc014b3b",
   "metadata": {},
   "outputs": [],
   "source": []
  }
 ],
 "metadata": {
  "kernelspec": {
   "display_name": "EvolBern:Python",
   "language": "python",
   "name": "conda-env-EvolBern-py"
  },
  "language_info": {
   "codemirror_mode": {
    "name": "ipython",
    "version": 3
   },
   "file_extension": ".py",
   "mimetype": "text/x-python",
   "name": "python",
   "nbconvert_exporter": "python",
   "pygments_lexer": "ipython3",
   "version": "3.9.19"
  }
 },
 "nbformat": 4,
 "nbformat_minor": 5
}
