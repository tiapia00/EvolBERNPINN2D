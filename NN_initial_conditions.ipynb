{
 "cells": [
  {
   "cell_type": "markdown",
   "id": "cbd32c97-e6f6-45ce-9516-7df472e705f5",
   "metadata": {},
   "source": [
    "# Generate reference solution"
   ]
  },
  {
   "cell_type": "code",
   "execution_count": 1,
   "id": "b4e98601-1998-47a1-b058-5e6ed40f2827",
   "metadata": {},
   "outputs": [],
   "source": [
    "import numpy as np\n",
    "import torch\n",
    "from torch import nn\n",
    "from typing import Tuple\n",
    "import json"
   ]
  },
  {
   "cell_type": "code",
   "execution_count": 2,
   "id": "e110fd74-25ac-4792-a64f-57bf658278a3",
   "metadata": {},
   "outputs": [],
   "source": [
    "def read_json(filename):\n",
    "    with open(filename, 'r') as file:\n",
    "        return json.load(file)"
   ]
  },
  {
   "cell_type": "code",
   "execution_count": 3,
   "id": "f5adaefa-0825-4927-899a-949c68c9926b",
   "metadata": {},
   "outputs": [],
   "source": [
    "torch.set_default_dtype(torch.float32)\n",
    "device = torch.device(\"cuda\" if torch.cuda.is_available() else \"cpu\")\n",
    "model_file = \"Initial_NN.torch\""
   ]
  },
  {
   "cell_type": "code",
   "execution_count": 4,
   "id": "2409f0da-8a3a-4bcb-9351-1d147ee341cd",
   "metadata": {
    "tags": []
   },
   "outputs": [],
   "source": [
    "from beam import Beam, Prob_Solv_Modes, In_Cond"
   ]
  },
  {
   "cell_type": "code",
   "execution_count": 5,
   "id": "b4387625-3d82-4dd6-9e59-1745b1352446",
   "metadata": {},
   "outputs": [],
   "source": [
    "par = read_json('par.json')\n",
    "\n",
    "Lx = par['x']\n",
    "t = par['t']\n",
    "n = par['n']\n",
    "\n",
    "num_hidden = par['n_layers']\n",
    "dim_hidden = par['n_neurons']"
   ]
  },
  {
   "cell_type": "code",
   "execution_count": 6,
   "id": "0f71b972-2213-4a29-8114-7938e9867204",
   "metadata": {
    "tags": []
   },
   "outputs": [],
   "source": [
    "my_beam = Beam(Lx, 68e9, 2700, 8e-3, 40e-3, n)"
   ]
  },
  {
   "cell_type": "code",
   "execution_count": 7,
   "id": "9fea276d-4bac-4914-a22b-ce1dc550ffa8",
   "metadata": {},
   "outputs": [],
   "source": [
    "prob = Prob_Solv_Modes(my_beam)\n",
    "\n",
    "gamma_max = 100 # gamma_max must be increased, because spatial eigenfrequencies increase, since the beam is very short\n",
    "\n",
    "prob.pass_g_max(gamma_max)\n",
    "eig_gam = prob.find_eig()\n",
    "\n",
    "my_beam.gamma = np.array(eig_gam)\n",
    "my_beam.update_freq()\n",
    "\n",
    "# Just one parameter independent for gamma (order of the system reduced)\n",
    "F = prob.find_all_F(my_beam)\n",
    "prob.update_gamma(my_beam)\n",
    "phi = prob.return_modemat(F)\n",
    "my_beam.update_phi(phi)"
   ]
  },
  {
   "cell_type": "code",
   "execution_count": 8,
   "id": "d8411d4b-567c-4a23-b830-453ea6013f10",
   "metadata": {},
   "outputs": [],
   "source": [
    "my_In_Cond = In_Cond(my_beam)\n",
    "\n",
    "w_0 = my_beam.phi[:,0]\n",
    "w_dot_0 = np.zeros(len(w_0))\n",
    "\n",
    "my_In_Cond.pass_init_cond(w_0, w_dot_0)\n",
    "A, B = my_In_Cond.compute_coeff()\n",
    "\n",
    "t_lin = np.linspace(0, 1, n)\n",
    "my_beam.calculate_solution(A, B, t_lin)\n",
    "w = my_beam.w"
   ]
  },
  {
   "cell_type": "code",
   "execution_count": 9,
   "id": "c24d9bca-a0b3-438c-ada2-55228a923539",
   "metadata": {},
   "outputs": [],
   "source": [
    "def adimensionalize_sol(w: np.ndarray, w_ast: float):\n",
    "    return w/w_ast\n",
    "\n",
    "w_ad = adimensionalize_sol(w, Lx).T"
   ]
  },
  {
   "cell_type": "markdown",
   "id": "e880882f-97bd-488c-bf6d-d7ddd967562f",
   "metadata": {},
   "source": [
    "correct to transpose it? based on how reshape works\n",
    "- columns of w are referred to different time points"
   ]
  },
  {
   "cell_type": "markdown",
   "id": "eb3c898a-d370-4461-aec5-c7c4c1c45364",
   "metadata": {},
   "source": [
    "# Setup NN for initial conditions"
   ]
  },
  {
   "cell_type": "markdown",
   "id": "a737bd4d-ddba-4100-9e03-266155eb9e31",
   "metadata": {},
   "source": [
    "## Define training dataset"
   ]
  },
  {
   "cell_type": "code",
   "execution_count": 10,
   "id": "f57f224b-de96-4c57-bf8a-e02e4525664e",
   "metadata": {},
   "outputs": [],
   "source": [
    "x_lin = np.linspace(0, 1, n)\n",
    "\n",
    "X, T = np.meshgrid(x_lin, t_lin)\n",
    "X = X.reshape(-1, 1)\n",
    "T = T.reshape(-1, 1)\n",
    "\n",
    "x = torch.tensor(X).to(device).float()\n",
    "t = torch.tensor(T).to(device).float()"
   ]
  },
  {
   "cell_type": "markdown",
   "id": "ca6418d2-0450-42b3-acda-bbddccbff6ce",
   "metadata": {},
   "source": [
    "## Prepare data for pytorch"
   ]
  },
  {
   "cell_type": "code",
   "execution_count": 11,
   "id": "1659b78e-8480-48bb-a8ae-8e8160eae178",
   "metadata": {},
   "outputs": [],
   "source": [
    "y = w.reshape(-1, 1)\n",
    "y = torch.tensor(y).to(device).float()"
   ]
  },
  {
   "cell_type": "code",
   "execution_count": 12,
   "id": "8cc68882-38e7-42a1-bf73-0ec07b0ea628",
   "metadata": {
    "tags": []
   },
   "outputs": [],
   "source": [
    "from nn import *"
   ]
  },
  {
   "cell_type": "code",
   "execution_count": 13,
   "id": "1d5388d7-fca0-4a46-be48-be354b0f0b97",
   "metadata": {},
   "outputs": [],
   "source": [
    "nn = NN(num_hidden, dim_hidden, dim_input = 2, dim_output = 1).to(device)"
   ]
  },
  {
   "cell_type": "code",
   "execution_count": 14,
   "id": "1b54c8fa-fe6a-450a-a3a8-a684a64afc4d",
   "metadata": {},
   "outputs": [],
   "source": [
    "from tqdm import tqdm\n",
    "from typing import Callable\n",
    "import pytz\n",
    "\n",
    "epochs = 8000\n",
    "lr = 0.002\n",
    "\n",
    "loss_fn = Loss(\n",
    "    x,\n",
    "    t,\n",
    "    y\n",
    ")"
   ]
  },
  {
   "cell_type": "code",
   "execution_count": 15,
   "id": "dc9b1777-dbe7-4266-96cd-7c007916d2c1",
   "metadata": {},
   "outputs": [
    {
     "name": "stderr",
     "output_type": "stream",
     "text": [
      "Loss: 0.1973: : 8001it [00:21, 373.50it/s]                        \n"
     ]
    }
   ],
   "source": [
    "nn_trained, loss_values = train_model(\n",
    "    nn, loss_fn=loss_fn, learning_rate=lr, max_epochs=epochs)"
   ]
  },
  {
   "cell_type": "code",
   "execution_count": 16,
   "id": "709e3c70-01fe-4636-93b4-f078d55d99b5",
   "metadata": {
    "tags": []
   },
   "outputs": [],
   "source": [
    "import os\n",
    "import pytz\n",
    "import datetime\n",
    "from write_logs import get_current_time\n",
    "\n",
    "folder = 'in_model'\n",
    "time = get_current_time(fmt='%m-%d %H:%M')\n",
    "model_name = f'{get_current_time()}.pth'\n",
    "\n",
    "model_path = os.path.join(folder, model_name)\n",
    "os.makedirs(folder, exist_ok=True)\n",
    "\n",
    "torch.save(nn_trained.state_dict(), model_path)"
   ]
  },
  {
   "cell_type": "markdown",
   "id": "ecd64aad-ed9e-4f5b-aad8-b2770959f38c",
   "metadata": {},
   "source": [
    "# To be checked\n",
    "- ~correct association of meshpoints with solution?~"
   ]
  }
 ],
 "metadata": {
  "kernelspec": {
   "display_name": "EvolBern:Python",
   "language": "python",
   "name": "conda-env-EvolBern-py"
  },
  "language_info": {
   "codemirror_mode": {
    "name": "ipython",
    "version": 3
   },
   "file_extension": ".py",
   "mimetype": "text/x-python",
   "name": "python",
   "nbconvert_exporter": "python",
   "pygments_lexer": "ipython3",
   "version": "3.9.19"
  }
 },
 "nbformat": 4,
 "nbformat_minor": 5
}
